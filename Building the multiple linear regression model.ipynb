{
 "cells": [
  {
   "cell_type": "markdown",
   "metadata": {},
   "source": [
    "# Introduction\n",
    "\n",
    "So far we've been looking at the data we'll use for the Multiple Linear Regression (MLR) model and whether it meets the assumptions for normality.\n",
    "\n",
    "In this paractical I'm going to build the model using the data from the dataset and then evaluate the importance of each variable and its contribution to the overall accuracy of the model.\n",
    "\n",
    "First I need to convert the `state.x77` matrix. I'm also going to add a new variable called `name` because I'll need this to show individual outliers in the data further on in this practical."
   ]
  },
  {
   "cell_type": "code",
   "execution_count": 269,
   "metadata": {},
   "outputs": [],
   "source": [
    "states <- as.data.frame(state.x77)"
   ]
  },
  {
   "cell_type": "code",
   "execution_count": 270,
   "metadata": {},
   "outputs": [],
   "source": [
    "# Add the states name as a variable\n",
    "states$name <- state.name"
   ]
  },
  {
   "cell_type": "code",
   "execution_count": 271,
   "metadata": {},
   "outputs": [
    {
     "data": {
      "text/html": [
       "<table>\n",
       "<caption>A data.frame: 6 × 9</caption>\n",
       "<thead>\n",
       "\t<tr><th></th><th scope=col>Population</th><th scope=col>Income</th><th scope=col>Illiteracy</th><th scope=col>Life Exp</th><th scope=col>Murder</th><th scope=col>HS Grad</th><th scope=col>Frost</th><th scope=col>Area</th><th scope=col>name</th></tr>\n",
       "\t<tr><th></th><th scope=col>&lt;dbl&gt;</th><th scope=col>&lt;dbl&gt;</th><th scope=col>&lt;dbl&gt;</th><th scope=col>&lt;dbl&gt;</th><th scope=col>&lt;dbl&gt;</th><th scope=col>&lt;dbl&gt;</th><th scope=col>&lt;dbl&gt;</th><th scope=col>&lt;dbl&gt;</th><th scope=col>&lt;chr&gt;</th></tr>\n",
       "</thead>\n",
       "<tbody>\n",
       "\t<tr><th scope=row>Alabama</th><td> 3615</td><td>3624</td><td>2.1</td><td>69.05</td><td>15.1</td><td>41.3</td><td> 20</td><td> 50708</td><td>Alabama   </td></tr>\n",
       "\t<tr><th scope=row>Alaska</th><td>  365</td><td>6315</td><td>1.5</td><td>69.31</td><td>11.3</td><td>66.7</td><td>152</td><td>566432</td><td>Alaska    </td></tr>\n",
       "\t<tr><th scope=row>Arizona</th><td> 2212</td><td>4530</td><td>1.8</td><td>70.55</td><td> 7.8</td><td>58.1</td><td> 15</td><td>113417</td><td>Arizona   </td></tr>\n",
       "\t<tr><th scope=row>Arkansas</th><td> 2110</td><td>3378</td><td>1.9</td><td>70.66</td><td>10.1</td><td>39.9</td><td> 65</td><td> 51945</td><td>Arkansas  </td></tr>\n",
       "\t<tr><th scope=row>California</th><td>21198</td><td>5114</td><td>1.1</td><td>71.71</td><td>10.3</td><td>62.6</td><td> 20</td><td>156361</td><td>California</td></tr>\n",
       "\t<tr><th scope=row>Colorado</th><td> 2541</td><td>4884</td><td>0.7</td><td>72.06</td><td> 6.8</td><td>63.9</td><td>166</td><td>103766</td><td>Colorado  </td></tr>\n",
       "</tbody>\n",
       "</table>\n"
      ],
      "text/latex": [
       "A data.frame: 6 × 9\n",
       "\\begin{tabular}{r|lllllllll}\n",
       "  & Population & Income & Illiteracy & Life Exp & Murder & HS Grad & Frost & Area & name\\\\\n",
       "  & <dbl> & <dbl> & <dbl> & <dbl> & <dbl> & <dbl> & <dbl> & <dbl> & <chr>\\\\\n",
       "\\hline\n",
       "\tAlabama &  3615 & 3624 & 2.1 & 69.05 & 15.1 & 41.3 &  20 &  50708 & Alabama   \\\\\n",
       "\tAlaska &   365 & 6315 & 1.5 & 69.31 & 11.3 & 66.7 & 152 & 566432 & Alaska    \\\\\n",
       "\tArizona &  2212 & 4530 & 1.8 & 70.55 &  7.8 & 58.1 &  15 & 113417 & Arizona   \\\\\n",
       "\tArkansas &  2110 & 3378 & 1.9 & 70.66 & 10.1 & 39.9 &  65 &  51945 & Arkansas  \\\\\n",
       "\tCalifornia & 21198 & 5114 & 1.1 & 71.71 & 10.3 & 62.6 &  20 & 156361 & California\\\\\n",
       "\tColorado &  2541 & 4884 & 0.7 & 72.06 &  6.8 & 63.9 & 166 & 103766 & Colorado  \\\\\n",
       "\\end{tabular}\n"
      ],
      "text/markdown": [
       "\n",
       "A data.frame: 6 × 9\n",
       "\n",
       "| <!--/--> | Population &lt;dbl&gt; | Income &lt;dbl&gt; | Illiteracy &lt;dbl&gt; | Life Exp &lt;dbl&gt; | Murder &lt;dbl&gt; | HS Grad &lt;dbl&gt; | Frost &lt;dbl&gt; | Area &lt;dbl&gt; | name &lt;chr&gt; |\n",
       "|---|---|---|---|---|---|---|---|---|---|\n",
       "| Alabama |  3615 | 3624 | 2.1 | 69.05 | 15.1 | 41.3 |  20 |  50708 | Alabama    |\n",
       "| Alaska |   365 | 6315 | 1.5 | 69.31 | 11.3 | 66.7 | 152 | 566432 | Alaska     |\n",
       "| Arizona |  2212 | 4530 | 1.8 | 70.55 |  7.8 | 58.1 |  15 | 113417 | Arizona    |\n",
       "| Arkansas |  2110 | 3378 | 1.9 | 70.66 | 10.1 | 39.9 |  65 |  51945 | Arkansas   |\n",
       "| California | 21198 | 5114 | 1.1 | 71.71 | 10.3 | 62.6 |  20 | 156361 | California |\n",
       "| Colorado |  2541 | 4884 | 0.7 | 72.06 |  6.8 | 63.9 | 166 | 103766 | Colorado   |\n",
       "\n"
      ],
      "text/plain": [
       "           Population Income Illiteracy Life Exp Murder HS Grad Frost Area  \n",
       "Alabama     3615      3624   2.1        69.05    15.1   41.3     20    50708\n",
       "Alaska       365      6315   1.5        69.31    11.3   66.7    152   566432\n",
       "Arizona     2212      4530   1.8        70.55     7.8   58.1     15   113417\n",
       "Arkansas    2110      3378   1.9        70.66    10.1   39.9     65    51945\n",
       "California 21198      5114   1.1        71.71    10.3   62.6     20   156361\n",
       "Colorado    2541      4884   0.7        72.06     6.8   63.9    166   103766\n",
       "           name      \n",
       "Alabama    Alabama   \n",
       "Alaska     Alaska    \n",
       "Arizona    Arizona   \n",
       "Arkansas   Arkansas  \n",
       "California California\n",
       "Colorado   Colorado  "
      ]
     },
     "metadata": {},
     "output_type": "display_data"
    }
   ],
   "source": [
    "head(states)"
   ]
  },
  {
   "cell_type": "markdown",
   "metadata": {},
   "source": [
    "Next i'm amending the `Life Exp` and `HS Grad` variable names as they contain spaces and will cause issues when I'm referring to them in R code."
   ]
  },
  {
   "cell_type": "code",
   "execution_count": 272,
   "metadata": {},
   "outputs": [],
   "source": [
    "colnames(states)[colnames(states) == \"Life Exp\"] <- \"Life_Exp\"\n",
    "colnames(states)[colnames(states) == \"HS Grad\"] <- \"HS_Grad\""
   ]
  },
  {
   "cell_type": "markdown",
   "metadata": {},
   "source": [
    "And in the previous practical session I identified that `Area` was irrelevant to the model so I'm removing it."
   ]
  },
  {
   "cell_type": "code",
   "execution_count": 273,
   "metadata": {},
   "outputs": [],
   "source": [
    "states <- subset(states, select = -c(Area))"
   ]
  },
  {
   "cell_type": "markdown",
   "metadata": {},
   "source": [
    "Models for `lm` are specified symbolically. A typical model has the form **response ~ terms** where `response` is the (numeric) **response** vector and **terms** is a series of terms which specifies a linear `predictor` for response. \n",
    "\n",
    "The distinction between explanatory and response variables is similar to another classification. Sometimes we refer to variables as being independent or dependent. \n",
    "\n",
    "The value of a dependent variable relies upon that of an independent variable. Thus a `response` variable corresponds to a dependent variable while an `explanatory` variable corresponds to an independent variable."
   ]
  },
  {
   "cell_type": "markdown",
   "metadata": {},
   "source": [
    "## Training and testing datasets\n",
    "\n",
    "Just as I demonstrated in the linear regression practical session, we need to use some observations to validate our results. This means that our data will be split into two different groups:<br>\n",
    "\n",
    "**Training data**<br>\n",
    "**testing data**\n",
    "\n",
    "Training data is used to extract knowledge and learn the relationship among variables. We use the `sample()` function which takes as input a list of numbers which go from 1 to the total number of observations in the data with complete cases. We specify the number of observations that will be picked for the training data as around 70% of the total number of observations available, and use the `replace = FALSE` command to specify that the picked observations may not be duplicated (by avoiding\n",
    "a sample with replacement).\n",
    "\n",
    "The testing data is composed of the remaining 30% of the observations. Since `sample` is a `Boolean` vector that contains a `TRUE` or `FALSE` value for each observation to specify whether or not it should be included, respectively, we can negate the vector to pick the other part of the data by prepending a minus sign (-) to the binary vector, effectively making every `TRUE` value a `FALSE` value, and vice versa.\n",
    "\n",
    "If we did this process various times, we would find that every time we get different samples for the training and testing sets, and this may confuse us about our results. This is because the `sample()` function is stochastic, meaning that it will use pseudo random number generator to make the selection for us. If we want our process to be reproducible, meaning that, every time we run it the exact same samples are selected, then we must specify an initial seed before applying this process to precondition the pseudo random number generator. \n",
    "\n",
    "To do so, we need to pass an integer to the `set.seed()` function, as we do at the beginning of the code below. The seed argument must stay fixed to reproduce the same samples, and with it in place, every time we generate a random sample, we will get the same sample so that our results are reproducible.\n",
    "\n",
    "To understand this, let's look at the following code:"
   ]
  },
  {
   "cell_type": "code",
   "execution_count": 274,
   "metadata": {},
   "outputs": [],
   "source": [
    "set.seed(1)\n",
    "no_rows_data <- nrow(states)\n",
    "sample <- sample(1:no_rows_data, size = round(0.7 * no_rows_data), replace = FALSE)\n",
    "\n",
    "training_data <- states[sample, ]\n",
    "testing_data <- states[-sample, ]"
   ]
  },
  {
   "cell_type": "markdown",
   "metadata": {},
   "source": [
    "## Building the MLR model\n",
    "Before we can make any predictions, we need to specify a model and train it with our training data (training_data) so that it learns how to provide us with the predictions we're looking for. \n",
    "\n",
    "This means that we will solve an optimisation problem that outputs certain numbers that will be used as parameters for our model's predictions. R makes it very easy for us to accomplish such a task.\n",
    "\n",
    "The standard way of specifying a linear regression model in R is using the `lm()` function with the model we want to build expressed as a formula and the data that should be used, and save it into an object (in this case `fit`) that we can use to explore the results in detail."
   ]
  },
  {
   "cell_type": "code",
   "execution_count": 275,
   "metadata": {},
   "outputs": [],
   "source": [
    "fit <- lm(Murder ~ Population + Illiteracy + Income + Frost + Life_Exp + HS_Grad, data=training_data)"
   ]
  },
  {
   "cell_type": "markdown",
   "metadata": {},
   "source": [
    "In this model, we would let R know that we want to run a regression where we try\n",
    "to explain the `Murder` response variable using the `Population`, `Illiteracy`, `Income` and `Frost` variables in the data.\n",
    "\n",
    "### MLR model evaluation\n",
    "Lets examine the results of the model in detail using the `summary()` function."
   ]
  },
  {
   "cell_type": "code",
   "execution_count": 276,
   "metadata": {
    "scrolled": false
   },
   "outputs": [
    {
     "data": {
      "text/plain": [
       "\n",
       "Call:\n",
       "lm(formula = Murder ~ Population + Illiteracy + Income + Frost + \n",
       "    Life_Exp + HS_Grad, data = training_data)\n",
       "\n",
       "Residuals:\n",
       "    Min      1Q  Median      3Q     Max \n",
       "-2.6921 -1.0315 -0.1722  0.9987  3.3536 \n",
       "\n",
       "Coefficients:\n",
       "              Estimate Std. Error t value Pr(>|t|)    \n",
       "(Intercept)  1.221e+02  2.437e+01   5.011 2.69e-05 ***\n",
       "Population   3.242e-04  8.487e-05   3.820 0.000679 ***\n",
       "Illiteracy   1.185e+00  8.493e-01   1.395 0.173971    \n",
       "Income      -5.753e-04  8.025e-04  -0.717 0.479403    \n",
       "Frost       -1.082e-02  7.873e-03  -1.375 0.180109    \n",
       "Life_Exp    -1.625e+00  3.635e-01  -4.472 0.000117 ***\n",
       "HS_Grad      2.209e-02  6.503e-02   0.340 0.736662    \n",
       "---\n",
       "Signif. codes:  0 '***' 0.001 '**' 0.01 '*' 0.05 '.' 0.1 ' ' 1\n",
       "\n",
       "Residual standard error: 1.618 on 28 degrees of freedom\n",
       "Multiple R-squared:  0.8642,\tAdjusted R-squared:  0.835 \n",
       "F-statistic: 29.69 on 6 and 28 DF,  p-value: 6.672e-11\n"
      ]
     },
     "metadata": {},
     "output_type": "display_data"
    }
   ],
   "source": [
    "summary(fit)"
   ]
  },
  {
   "cell_type": "markdown",
   "metadata": {},
   "source": [
    "When there’s more than one predictor variable, the regression coefficients indicate the increase in the dependent variable for a unit change in a predictor variable, assuming all other predictor variables remain constant. \n",
    "\n",
    "For example, the regression coefficient for `Population` is **3.24**, suggesting that an increase of 1% in illiteracy is associated with a 3.24% increase in the murder rate, controlling for Illiteracy, income, temperature, life expectancy and high school grade.\n",
    "\n",
    "The coefficient is significantly different from zero at the **p < .0001** level. \n",
    "\n",
    "The coefficient for `Frost`, `income` and `HS_Grad` aren’t significantly different from zero **(p = 0.18),(p = 0.47) and (p = 0.73)** suggesting that `Frost`, `income`, `HS_Grad` and `Murder` aren’t linearly related when controlling for the other predictor variables. Population, Illiteracy, Life_Exp are showing a linear relationship.\n",
    "\n",
    "The coefficient of determination (R-squared) is a statistical metric that is used to measure how much of the variation in outcome (response) can be explained by the variation in the predictor variables. R2 always increases as more predictors are added to the MLR model even though the predictors may not be related to the outcome variable.\n",
    " \n",
    "R2 by itself can't thus be used to identify which predictors should be included in a model and which should be excluded. R2 can only be between 0 and 1, where 0 indicates that the outcome cannot be predicted by any of the predictor variables and 1 indicates that the outcome can be predicted without error from the independent variables.\n",
    "\n",
    "All of the predictor variables account for 86% of the variance in murder rates across states. This is indicated by the `Multiple R-squared` value.\n",
    "\n",
    "Up to this point, we’ve assumed that the predictor variables don’t interact."
   ]
  },
  {
   "cell_type": "markdown",
   "metadata": {},
   "source": [
    "## Model summary\n",
    "\n",
    "We've used the `lm()` function to fit an OLS regression model and the `summary(`) function to obtain the model parameters and summary statistics.\n",
    "\n",
    "Unfortunately, nothing in this output tells us whether the model we’ve fit is appropriate. Our confidence in inferences about regression parameters depends on the degree to which we’ve met the statistical assumptions of the OLS model. \n",
    "\n",
    "Although the `summary()` function describes the model, it provides no information concerning the degree to which you’ve satisfied the statistical assumptions underlying the model.\n",
    "\n",
    "Why is this important? Irregularities in the data or misspecifications of the relationships between the predictors and the response variable can lead you to settle on a model that’s wildly inaccurate. On the one hand, you may conclude that a predictor and a response variable are unrelated when, in fact, they are. On the other hand, you\n",
    "may conclude that a predictor and a response variable are related when, in fact, they aren’t! \n",
    "\n",
    "We may also end up with a model that makes poor predictions when applied in real-world settings, with significant and unnecessary error.\n",
    "\n",
    "Let’s look at the output from the `confint()` function."
   ]
  },
  {
   "cell_type": "code",
   "execution_count": 277,
   "metadata": {
    "scrolled": true
   },
   "outputs": [
    {
     "data": {
      "text/html": [
       "<table>\n",
       "<caption>A matrix: 7 × 2 of type dbl</caption>\n",
       "<thead>\n",
       "\t<tr><th></th><th scope=col>2.5 %</th><th scope=col>97.5 %</th></tr>\n",
       "</thead>\n",
       "<tbody>\n",
       "\t<tr><th scope=row>(Intercept)</th><td>72.1886900893</td><td> 1.720228e+02</td></tr>\n",
       "\t<tr><th scope=row>Population</th><td> 0.0001503752</td><td> 4.980863e-04</td></tr>\n",
       "\t<tr><th scope=row>Illiteracy</th><td>-0.5548936473</td><td> 2.924488e+00</td></tr>\n",
       "\t<tr><th scope=row>Income</th><td>-0.0022191652</td><td> 1.068594e-03</td></tr>\n",
       "\t<tr><th scope=row>Frost</th><td>-0.0269489874</td><td> 5.303320e-03</td></tr>\n",
       "\t<tr><th scope=row>Life_Exp</th><td>-2.3697797855</td><td>-8.807803e-01</td></tr>\n",
       "\t<tr><th scope=row>HS_Grad</th><td>-0.1111259148</td><td> 1.553015e-01</td></tr>\n",
       "</tbody>\n",
       "</table>\n"
      ],
      "text/latex": [
       "A matrix: 7 × 2 of type dbl\n",
       "\\begin{tabular}{r|ll}\n",
       "  & 2.5 \\% & 97.5 \\%\\\\\n",
       "\\hline\n",
       "\t(Intercept) & 72.1886900893 &  1.720228e+02\\\\\n",
       "\tPopulation &  0.0001503752 &  4.980863e-04\\\\\n",
       "\tIlliteracy & -0.5548936473 &  2.924488e+00\\\\\n",
       "\tIncome & -0.0022191652 &  1.068594e-03\\\\\n",
       "\tFrost & -0.0269489874 &  5.303320e-03\\\\\n",
       "\tLife\\_Exp & -2.3697797855 & -8.807803e-01\\\\\n",
       "\tHS\\_Grad & -0.1111259148 &  1.553015e-01\\\\\n",
       "\\end{tabular}\n"
      ],
      "text/markdown": [
       "\n",
       "A matrix: 7 × 2 of type dbl\n",
       "\n",
       "| <!--/--> | 2.5 % | 97.5 % |\n",
       "|---|---|---|\n",
       "| (Intercept) | 72.1886900893 |  1.720228e+02 |\n",
       "| Population |  0.0001503752 |  4.980863e-04 |\n",
       "| Illiteracy | -0.5548936473 |  2.924488e+00 |\n",
       "| Income | -0.0022191652 |  1.068594e-03 |\n",
       "| Frost | -0.0269489874 |  5.303320e-03 |\n",
       "| Life_Exp | -2.3697797855 | -8.807803e-01 |\n",
       "| HS_Grad | -0.1111259148 |  1.553015e-01 |\n",
       "\n"
      ],
      "text/plain": [
       "            2.5 %         97.5 %       \n",
       "(Intercept) 72.1886900893  1.720228e+02\n",
       "Population   0.0001503752  4.980863e-04\n",
       "Illiteracy  -0.5548936473  2.924488e+00\n",
       "Income      -0.0022191652  1.068594e-03\n",
       "Frost       -0.0269489874  5.303320e-03\n",
       "Life_Exp    -2.3697797855 -8.807803e-01\n",
       "HS_Grad     -0.1111259148  1.553015e-01"
      ]
     },
     "metadata": {},
     "output_type": "display_data"
    }
   ],
   "source": [
    "confint(fit)"
   ]
  },
  {
   "cell_type": "markdown",
   "metadata": {},
   "source": [
    "The results suggest that you can be 95% confident that the interval [0, 4.98] contains the true change in `murder` rate for a 1% change in `illiteracy` rate. "
   ]
  },
  {
   "cell_type": "markdown",
   "metadata": {},
   "source": [
    "## Regression diagnostics\n",
    "But your faith in these results is only as strong as the evidence you have that your data satisfies\n",
    "the statistical assumptions underlying the model.\n",
    "\n",
    "A set of techniques called **regression diagnostics** provides the necessary tools for evaluating the appropriateness of the regression model and can help you to uncover and correct problems. \n",
    "\n",
    "We’ll use methods available through the `car` package to do this analysis."
   ]
  },
  {
   "cell_type": "markdown",
   "metadata": {},
   "source": [
    "## Normality and studentized residuals\n",
    "The `qqPlot()` function plots the **studentized residuals** (also called studentized deleted residuals or jackknifed residuals) against a t distribution with n – p – 1 degrees of freedom, where n is the sample size and p is the number of regression parameters (including the intercept). Dividing a statistic by a sample standard deviation is called studentizing, in analogy with **standardizing** and **normalizing**. \n",
    "\n",
    "A **studentized residual** is the quotient resulting from the division of a residual by an estimate of its standard deviation. It is a form of a Student's t-statistic, with the estimate of error varying between points. This is an important technique in the detection of outliers.\n",
    "\n",
    "The key reason for studentizing is that in regression analysis of a multivariate distribution, the variances of the residuals at different input variable values may differ, even if the variances of the errors at these different input variable values are equal. The issue is the difference between errors and residuals in statistics, particularly the behavior of residuals in regressions.\n",
    "\n",
    "### Studentized residuals example\n",
    "\n",
    "Suppose there is a series of observations from a distribution and we want to estimate the mean of that distribution. In this case, the errors are the deviations of the observations from the population mean, while the residuals are the deviations of the observations from the sample mean.\n",
    "\n",
    "A statistical error is the amount by which an observation differs from its expected value, the latter being based on the whole population from which the statistical unit was chosen randomly. For example, if the mean height in a population of 21-year-old men is 1.75 metres, and one randomly chosen man is 1.80 metres tall, then the **error** is 0.05 metres.\n",
    "\n",
    "If the randomly chosen man is 1.70 metres tall, then the **error** is −0.05 metres. The expected value, being the mean of the entire population, is typically unobservable, and hence the statistical error cannot be observed either.\n",
    "\n",
    "Alternatively, a residual (or fitting deviation) is an observable estimate of the unobservable statistical error. Consider the previous example with men's heights and suppose we have a random sample of n people. The sample mean could serve as a good estimator of the population mean. Then we have:\n",
    "\n",
    "The difference between the height of each man in the sample and the unobservable population mean is a statistical error, whereas \n",
    "The difference between the height of each man in the sample and the observable sample mean is a residual.\n",
    "\n",
    "Note that, because of the definition of the sample mean, the sum of the residuals within a random sample is necessarily zero, and thus the residuals are necessarily not independent. The statistical errors, on the other hand, are independent, and their sum within the random sample is almost surely not zero.\n",
    "\n",
    "One can standardize statistical errors (especially of a normal distribution) in a z-score (or \"standard score\"), and standardize residuals in a t-statistic, or more generally studentized residuals. \n",
    "\n",
    "\n",
    "Let's analyse our model."
   ]
  },
  {
   "cell_type": "code",
   "execution_count": 278,
   "metadata": {},
   "outputs": [
    {
     "data": {
      "text/html": [
       "<style>\n",
       ".dl-inline {width: auto; margin:0; padding: 0}\n",
       ".dl-inline>dt, .dl-inline>dd {float: none; width: auto; display: inline-block}\n",
       ".dl-inline>dt::after {content: \":\\0020\"; padding-right: .5ex}\n",
       ".dl-inline>dt:not(:first-of-type) {padding-left: .5ex}\n",
       "</style><dl class=dl-inline><dt>Alabama</dt><dd>3</dd><dt>Colorado</dt><dd>24</dd></dl>\n"
      ],
      "text/latex": [
       "\\begin{description*}\n",
       "\\item[Alabama] 3\n",
       "\\item[Colorado] 24\n",
       "\\end{description*}\n"
      ],
      "text/markdown": [
       "Alabama\n",
       ":   3Colorado\n",
       ":   24\n",
       "\n"
      ],
      "text/plain": [
       " Alabama Colorado \n",
       "       3       24 "
      ]
     },
     "metadata": {},
     "output_type": "display_data"
    },
    {
     "data": {
      "image/png": "[encoded data removed]",
      "text/plain": [
       "Plot with title \"Q-Q Plot\""
      ]
     },
     "metadata": {
      "image/png": {
       "height": 420,
       "width": 420
      },
      "text/plain": {
       "height": 420,
       "width": 420
      }
     },
     "output_type": "display_data"
    }
   ],
   "source": [
    "library(car)\n",
    "qqPlot(fit, labels=row.names(states), id.method=\"identify\", simulate=TRUE, main=\"Q-Q Plot\")"
   ]
  },
  {
   "cell_type": "markdown",
   "metadata": {},
   "source": [
    "The `qqPlot()` function generates the probability plot. The option `d.method =\"identify\"`makes the plot interactive— after the graph is drawn. Clicking on points in the graph will label them with values specified in the labels option of the function. \n",
    "\n",
    "Here, I identified **Alabama** and **Colorado**. When `simulate=TRUE` is specified in the `qqplot()` function, a 95% confidence envelope is produced using a parametric bootstrap.\n",
    "\n",
    "With the exception of `Alabama` and `Colorado`, all the points fall close to the line and are within the confidence envelope, suggesting that we’ve met the normality assumption fairly well.\n",
    "\n",
    "But you should definitely look at both these points. They both have a large positive residual (actual – predicted), indicating that the model underestimates the murder rate in these states.\n",
    "\n",
    "Lets examine this data in more detail."
   ]
  },
  {
   "cell_type": "code",
   "execution_count": 279,
   "metadata": {
    "scrolled": true
   },
   "outputs": [
    {
     "data": {
      "text/html": [
       "<table>\n",
       "<caption>A data.frame: 1 × 8</caption>\n",
       "<thead>\n",
       "\t<tr><th></th><th scope=col>Population</th><th scope=col>Income</th><th scope=col>Illiteracy</th><th scope=col>Life_Exp</th><th scope=col>Murder</th><th scope=col>HS_Grad</th><th scope=col>Frost</th><th scope=col>name</th></tr>\n",
       "\t<tr><th></th><th scope=col>&lt;dbl&gt;</th><th scope=col>&lt;dbl&gt;</th><th scope=col>&lt;dbl&gt;</th><th scope=col>&lt;dbl&gt;</th><th scope=col>&lt;dbl&gt;</th><th scope=col>&lt;dbl&gt;</th><th scope=col>&lt;dbl&gt;</th><th scope=col>&lt;chr&gt;</th></tr>\n",
       "</thead>\n",
       "<tbody>\n",
       "\t<tr><th scope=row>Alabama</th><td>3615</td><td>3624</td><td>2.1</td><td>69.05</td><td>15.1</td><td>41.3</td><td>20</td><td>Alabama</td></tr>\n",
       "</tbody>\n",
       "</table>\n"
      ],
      "text/latex": [
       "A data.frame: 1 × 8\n",
       "\\begin{tabular}{r|llllllll}\n",
       "  & Population & Income & Illiteracy & Life\\_Exp & Murder & HS\\_Grad & Frost & name\\\\\n",
       "  & <dbl> & <dbl> & <dbl> & <dbl> & <dbl> & <dbl> & <dbl> & <chr>\\\\\n",
       "\\hline\n",
       "\tAlabama & 3615 & 3624 & 2.1 & 69.05 & 15.1 & 41.3 & 20 & Alabama\\\\\n",
       "\\end{tabular}\n"
      ],
      "text/markdown": [
       "\n",
       "A data.frame: 1 × 8\n",
       "\n",
       "| <!--/--> | Population &lt;dbl&gt; | Income &lt;dbl&gt; | Illiteracy &lt;dbl&gt; | Life_Exp &lt;dbl&gt; | Murder &lt;dbl&gt; | HS_Grad &lt;dbl&gt; | Frost &lt;dbl&gt; | name &lt;chr&gt; |\n",
       "|---|---|---|---|---|---|---|---|---|\n",
       "| Alabama | 3615 | 3624 | 2.1 | 69.05 | 15.1 | 41.3 | 20 | Alabama |\n",
       "\n"
      ],
      "text/plain": [
       "        Population Income Illiteracy Life_Exp Murder HS_Grad Frost name   \n",
       "Alabama 3615       3624   2.1        69.05    15.1   41.3    20    Alabama"
      ]
     },
     "metadata": {},
     "output_type": "display_data"
    },
    {
     "data": {
      "text/html": [
       "<table>\n",
       "<caption>A data.frame: 1 × 8</caption>\n",
       "<thead>\n",
       "\t<tr><th></th><th scope=col>Population</th><th scope=col>Income</th><th scope=col>Illiteracy</th><th scope=col>Life_Exp</th><th scope=col>Murder</th><th scope=col>HS_Grad</th><th scope=col>Frost</th><th scope=col>name</th></tr>\n",
       "\t<tr><th></th><th scope=col>&lt;dbl&gt;</th><th scope=col>&lt;dbl&gt;</th><th scope=col>&lt;dbl&gt;</th><th scope=col>&lt;dbl&gt;</th><th scope=col>&lt;dbl&gt;</th><th scope=col>&lt;dbl&gt;</th><th scope=col>&lt;dbl&gt;</th><th scope=col>&lt;chr&gt;</th></tr>\n",
       "</thead>\n",
       "<tbody>\n",
       "\t<tr><th scope=row>Colorado</th><td>2541</td><td>4884</td><td>0.7</td><td>72.06</td><td>6.8</td><td>63.9</td><td>166</td><td>Colorado</td></tr>\n",
       "</tbody>\n",
       "</table>\n"
      ],
      "text/latex": [
       "A data.frame: 1 × 8\n",
       "\\begin{tabular}{r|llllllll}\n",
       "  & Population & Income & Illiteracy & Life\\_Exp & Murder & HS\\_Grad & Frost & name\\\\\n",
       "  & <dbl> & <dbl> & <dbl> & <dbl> & <dbl> & <dbl> & <dbl> & <chr>\\\\\n",
       "\\hline\n",
       "\tColorado & 2541 & 4884 & 0.7 & 72.06 & 6.8 & 63.9 & 166 & Colorado\\\\\n",
       "\\end{tabular}\n"
      ],
      "text/markdown": [
       "\n",
       "A data.frame: 1 × 8\n",
       "\n",
       "| <!--/--> | Population &lt;dbl&gt; | Income &lt;dbl&gt; | Illiteracy &lt;dbl&gt; | Life_Exp &lt;dbl&gt; | Murder &lt;dbl&gt; | HS_Grad &lt;dbl&gt; | Frost &lt;dbl&gt; | name &lt;chr&gt; |\n",
       "|---|---|---|---|---|---|---|---|---|\n",
       "| Colorado | 2541 | 4884 | 0.7 | 72.06 | 6.8 | 63.9 | 166 | Colorado |\n",
       "\n"
      ],
      "text/plain": [
       "         Population Income Illiteracy Life_Exp Murder HS_Grad Frost name    \n",
       "Colorado 2541       4884   0.7        72.06    6.8    63.9    166   Colorado"
      ]
     },
     "metadata": {},
     "output_type": "display_data"
    }
   ],
   "source": [
    "training_data[\"Alabama\",]\n",
    "training_data[\"Colorado\",]"
   ]
  },
  {
   "cell_type": "markdown",
   "metadata": {},
   "source": [
    "The `fitted()` function extracts fitted values from objects returned by modeling functions. It returns the predicted murder rate for a particular state."
   ]
  },
  {
   "cell_type": "code",
   "execution_count": 280,
   "metadata": {},
   "outputs": [
    {
     "data": {
      "text/html": [
       "<strong>Alabama:</strong> 12.1512462115212"
      ],
      "text/latex": [
       "\\textbf{Alabama:} 12.1512462115212"
      ],
      "text/markdown": [
       "**Alabama:** 12.1512462115212"
      ],
      "text/plain": [
       " Alabama \n",
       "12.15125 "
      ]
     },
     "metadata": {},
     "output_type": "display_data"
    },
    {
     "data": {
      "text/html": [
       "<strong>Colorado:</strong> 3.44640422786102"
      ],
      "text/latex": [
       "\\textbf{Colorado:} 3.44640422786102"
      ],
      "text/markdown": [
       "**Colorado:** 3.44640422786102"
      ],
      "text/plain": [
       "Colorado \n",
       "3.446404 "
      ]
     },
     "metadata": {},
     "output_type": "display_data"
    }
   ],
   "source": [
    "fitted(fit)[\"Alabama\"]\n",
    "fitted(fit)[\"Colorado\"]"
   ]
  },
  {
   "cell_type": "markdown",
   "metadata": {},
   "source": [
    "These results tell us that the murder rate in Alabama is 15.1%, but the model predicts a 12.15% murder rate. and for Colorado, the murder rate is 6.8% and the model predicts 3.44%. `Colorado` seems a lot worse than `Alabama`.\n",
    "\n",
    "We can view these errors using a histogram. This code generates a histogram of the studentized residuals and superimposes a normal curve, kernel-density curve, and rug plot. "
   ]
  },
  {
   "cell_type": "code",
   "execution_count": 281,
   "metadata": {},
   "outputs": [
    {
     "data": {
      "image/png": "[encoded data removed]",
      "text/plain": [
       "Plot with title \"Distribution of Errors\""
      ]
     },
     "metadata": {
      "image/png": {
       "height": 420,
       "width": 420
      },
      "text/plain": {
       "height": 420,
       "width": 420
      }
     },
     "output_type": "display_data"
    }
   ],
   "source": [
    "student_fit <- rstudent(fit)\n",
    "hist(student_fit, \n",
    "     breaks=10, \n",
    "     freq=FALSE, \n",
    "     xlab=\"Studentized Residual\", \n",
    "     main=\"Distribution of Errors\")\n",
    "\n",
    "rug(jitter(student_fit), col=\"brown\")\n",
    "\n",
    "curve(dnorm(x, mean=mean(student_fit), sd=sd(student_fit)), add=TRUE, col=\"blue\", lwd=2)\n",
    "\n",
    "lines(density(student_fit)$x, density(student_fit)$y, col=\"red\", lwd=2, lty=2)\n",
    "\n",
    "legend(\"topright\", legend = c( \"Normal Curve\", \"Kernel Density Curve\"), lty=1:2, col=c(\"blue\",\"red\"), cex=.7)"
   ]
  },
  {
   "cell_type": "markdown",
   "metadata": {},
   "source": [
    "As you can see, the errors follow a normal distribution quite well, with the exception of 1 outlier on the right of the chart (outside the +2 boundary). The Q-Q plot is probably more informative in terms of displaying outliers."
   ]
  },
  {
   "cell_type": "markdown",
   "metadata": {},
   "source": [
    "Outliers are observations that aren’t predicted well by the model. They have unusually large positive or negative residuals. Positive residuals indicate that the model is underestimating the response value, whereas negative residuals indicate an overestimation.\n",
    "\n",
    "You’ve already seen one way to identify outliers through the Q-Q plot chart (above). Points in the Q-Q plot \n",
    "that lie outside the confidence band are considered outliers. \n",
    "\n",
    "A rough rule is that standardized residuals that are larger than 2 or less than –2 are worth attention.\n",
    "\n",
    "As you can see in this chart, the errors follow a normal distribution quite well, with the exception of 2 outliers on the right of the chart. The Q-Q plot is probably more informative in terms of displaying outliers.\n",
    "\n",
    "The `car` package also provides a statistical test for outliers. The `outlierTest()` function reports the Bonferroni adjusted p-value for the largest absolute studentized residual:\n",
    "\n",
    "See http://math.furman.edu/~dcs/courses/math47/R/library/car/html/outlier.test.html for futerh information."
   ]
  },
  {
   "cell_type": "code",
   "execution_count": 282,
   "metadata": {
    "scrolled": true
   },
   "outputs": [
    {
     "data": {
      "text/plain": [
       "No Studentized residuals with Bonferroni p < 0.05\n",
       "Largest |rstudent|:\n",
       "         rstudent unadjusted p-value Bonferroni p\n",
       "Colorado 2.496269           0.018955      0.66342"
      ]
     },
     "metadata": {},
     "output_type": "display_data"
    }
   ],
   "source": [
    "library(car)\n",
    "outlierTest(fit)"
   ]
  },
  {
   "cell_type": "markdown",
   "metadata": {},
   "source": [
    "Here, we see that `Colorado` is identified as an outlier. Note that this function tests the single largest (positive or negative) residual for significance as an outlier. Therefore we'll need to re-run the test once we've removed `Colorado`.\n",
    "\n",
    "If it isn’t significant, there are no outliers in the dataset. If it’s significant, you must delete it and rerun the test to see if others are present.\n",
    "\n",
    "Now I'm going to delete the **Colorado** outlier record and then re-run the test.\n",
    "\n",
    "I'll need to do the following:\n",
    " - Delete Colorado from the main `states` dataset\n",
    " - Split the data into training and testing again\n",
    " - Rebuild the model from the modified training data"
   ]
  },
  {
   "cell_type": "code",
   "execution_count": 283,
   "metadata": {},
   "outputs": [],
   "source": [
    "# Remove Colorado state record\n",
    "# from states dataset\n",
    "states <- subset(states, states$name != \"Colorado\")"
   ]
  },
  {
   "cell_type": "markdown",
   "metadata": {},
   "source": [
    "Split the data into training and testing again."
   ]
  },
  {
   "cell_type": "code",
   "execution_count": 284,
   "metadata": {},
   "outputs": [],
   "source": [
    "# Split data into training and testing\n",
    "set.seed(1)\n",
    "no_rows_data <- nrow(states)\n",
    "sample <- sample(1:no_rows_data, size = round(0.7 * no_rows_data), replace = FALSE)\n",
    "\n",
    "training_data <- states[sample, ]\n",
    "testing_data <- states[-sample, ]"
   ]
  },
  {
   "cell_type": "markdown",
   "metadata": {},
   "source": [
    "Then rebuild the MLR model again."
   ]
  },
  {
   "cell_type": "code",
   "execution_count": 285,
   "metadata": {},
   "outputs": [],
   "source": [
    "fit <- lm(Murder ~ Population + Illiteracy + Income + Frost + Life_Exp + HS_Grad, data=training_data)"
   ]
  },
  {
   "cell_type": "markdown",
   "metadata": {},
   "source": [
    "And now I'm re-running the outlier test. "
   ]
  },
  {
   "cell_type": "code",
   "execution_count": 286,
   "metadata": {},
   "outputs": [
    {
     "data": {
      "text/plain": [
       "No Studentized residuals with Bonferroni p < 0.05\n",
       "Largest |rstudent|:\n",
       "       rstudent unadjusted p-value Bonferroni p\n",
       "Maine -1.953061           0.061654           NA"
      ]
     },
     "metadata": {},
     "output_type": "display_data"
    }
   ],
   "source": [
    "outlierTest(fit)"
   ]
  },
  {
   "cell_type": "markdown",
   "metadata": {},
   "source": [
    "This test now shows that `Maine` could be an outlier. `Alabama` is no longer recognised as an outlier. Therefore I'm goign to proceed and not remove `Maine` from the dataste."
   ]
  },
  {
   "cell_type": "markdown",
   "metadata": {},
   "source": [
    "The outlier is now removed. I'm now re-running the histogram of the studentized residuals and superimposes a normal curve, kernel-density curve, and rug plot. "
   ]
  },
  {
   "cell_type": "code",
   "execution_count": 287,
   "metadata": {},
   "outputs": [
    {
     "data": {
      "image/png": "[encoded data removed]",
      "text/plain": [
       "Plot with title \"Distribution of Errors\""
      ]
     },
     "metadata": {
      "image/png": {
       "height": 420,
       "width": 420
      },
      "text/plain": {
       "height": 420,
       "width": 420
      }
     },
     "output_type": "display_data"
    }
   ],
   "source": [
    "student_fit <- rstudent(fit)\n",
    "hist(student_fit, \n",
    "     breaks=10, \n",
    "     freq=FALSE, \n",
    "     xlab=\"Studentized Residual\", \n",
    "     main=\"Distribution of Errors\")\n",
    "\n",
    "rug(jitter(student_fit), col=\"brown\")\n",
    "\n",
    "curve(dnorm(x, mean=mean(student_fit), sd=sd(student_fit)), add=TRUE, col=\"blue\", lwd=2)\n",
    "\n",
    "lines(density(student_fit)$x, density(student_fit)$y, col=\"red\", lwd=2, lty=2)\n",
    "\n",
    "legend(\"topright\", legend = c( \"Normal Curve\", \"Kernel Density Curve\"), lty=1:2, col=c(\"blue\",\"red\"), cex=.7)"
   ]
  },
  {
   "cell_type": "markdown",
   "metadata": {},
   "source": [
    "The plot now suggests that the outliers have been removed."
   ]
  },
  {
   "cell_type": "markdown",
   "metadata": {},
   "source": [
    "## Linearity\n",
    "You can look for evidence of nonlinearity in the relationship between the dependent variable and the independent variables by using component plus residual plots (also known as partial residual plots). \n",
    "\n",
    "The plot is produced by the `crPlots()` function in the `car` package. You’re looking for any systematic departure from the linear model that would be represented by a sharp deviation from the linear line on each chart."
   ]
  },
  {
   "cell_type": "code",
   "execution_count": 288,
   "metadata": {},
   "outputs": [
    {
     "data": {
      "image/png": "[encoded data removed]",
      "text/plain": [
       "plot without title"
      ]
     },
     "metadata": {
      "image/png": {
       "height": 420,
       "width": 420
      },
      "text/plain": {
       "height": 420,
       "width": 420
      }
     },
     "output_type": "display_data"
    }
   ],
   "source": [
    "crPlots(fit)"
   ]
  },
  {
   "cell_type": "markdown",
   "metadata": {},
   "source": [
    "### Influential observations\n",
    "Influential observations have a disproportionate impact on the values of the model parameters. Imagine finding that your model changes dramatically with the removal of a single observation. It’s this concern that leads you to examine your data for influential \n",
    "points.\n",
    "There are two methods for identifying influential observations: Cook’s distance (or D statistic) and added variable plots. \n",
    "\n",
    "Roughly speaking, Cook’s D values greater than 4/(n – k – 1), where n is the sample size and k is the number of predictor variables, indicate influential observations. You can create a Cook’s D plot like this:"
   ]
  },
  {
   "cell_type": "code",
   "execution_count": 289,
   "metadata": {},
   "outputs": [
    {
     "data": {
      "image/png": "[encoded data removed]",
      "text/plain": [
       "Plot with title \"\""
      ]
     },
     "metadata": {
      "image/png": {
       "height": 420,
       "width": 420
      },
      "text/plain": {
       "height": 420,
       "width": 420
      }
     },
     "output_type": "display_data"
    }
   ],
   "source": [
    "cutoff <- 4/(nrow(training_data) - length(fit$coefficients) - 2)\n",
    "plot(fit, which = 4, cook.levels = cutoff)\n",
    "abline(h = cutoff, lty = 2, col = \"red\")"
   ]
  },
  {
   "cell_type": "markdown",
   "metadata": {},
   "source": [
    "The chart suggest that `Nevada` could be an influencial observation in the data. Any points above the red cut-off line indicate records above that are influencial observations. Generally, a cutoff of 1 is more reasonable, and therefore I'm ignoring the `Nevada` record."
   ]
  },
  {
   "cell_type": "markdown",
   "metadata": {},
   "source": [
    "Cook’s D plots can help identify influential observations, but they don’t provide information about how these observations affect the model. \n",
    "\n",
    "Added-variable plots can help in this regard. For one response variable and k predictor variables, you’d create k\n",
    "added-variable plots as follows.\n",
    "\n",
    "For each predictor Xk, plot the residuals from regressing the response variable on the other k – 1 predictors versus the residuals from regressing Xk on the other k – 1 predictors. Added-variable plots can be created using the `avPlots()` function in the car package:"
   ]
  },
  {
   "cell_type": "code",
   "execution_count": 290,
   "metadata": {
    "scrolled": false
   },
   "outputs": [
    {
     "data": {
      "image/png": "[encoded data removed]",
      "text/plain": [
       "Plot with title \"\""
      ]
     },
     "metadata": {
      "image/png": {
       "height": 420,
       "width": 420
      },
      "text/plain": {
       "height": 420,
       "width": 420
      }
     },
     "output_type": "display_data"
    }
   ],
   "source": [
    "#library(car)\n",
    "avPlots(fit, ask=FALSE)"
   ]
  },
  {
   "cell_type": "markdown",
   "metadata": {},
   "source": [
    "The straight line in each plot is the actual regression coefficient for that predictor variable. For example, the chart in the top right shows data for the `Illiteracy` variable. \n",
    "\n",
    "You can see the impact of influential observations by imagining how the line would change if the point representing that observation was deleted. For example, in the **Frost | others** chart, if I remove the `Washington` record then the stright line would become more linear."
   ]
  },
  {
   "cell_type": "markdown",
   "metadata": {},
   "source": [
    "### Influence plot\n",
    "We can combine the information from outlier, leverage, and influence plots into one highly informative plot using the `influencePlot()` function from the car package. Here's an example of code to do this."
   ]
  },
  {
   "cell_type": "code",
   "execution_count": 291,
   "metadata": {},
   "outputs": [
    {
     "data": {
      "text/html": [
       "<table>\n",
       "<caption>A data.frame: 6 × 3</caption>\n",
       "<thead>\n",
       "\t<tr><th></th><th scope=col>StudRes</th><th scope=col>Hat</th><th scope=col>CookD</th></tr>\n",
       "\t<tr><th></th><th scope=col>&lt;dbl&gt;</th><th scope=col>&lt;dbl&gt;</th><th scope=col>&lt;dbl&gt;</th></tr>\n",
       "</thead>\n",
       "<tbody>\n",
       "\t<tr><th scope=row>Alabama</th><td> 1.8929461</td><td>0.1633673</td><td>0.091227696</td></tr>\n",
       "\t<tr><th scope=row>Maine</th><td>-1.9530614</td><td>0.1544834</td><td>0.090163412</td></tr>\n",
       "\t<tr><th scope=row>Hawaii</th><td> 0.9374836</td><td>0.4937311</td><td>0.122996054</td></tr>\n",
       "\t<tr><th scope=row>Alaska</th><td> 0.1543445</td><td>0.5941719</td><td>0.005169483</td></tr>\n",
       "\t<tr><th scope=row>Washington</th><td>-0.9857404</td><td>0.4754373</td><td>0.125944332</td></tr>\n",
       "\t<tr><th scope=row>Nevada</th><td> 1.8459168</td><td>0.2993280</td><td>0.190926279</td></tr>\n",
       "</tbody>\n",
       "</table>\n"
      ],
      "text/latex": [
       "A data.frame: 6 × 3\n",
       "\\begin{tabular}{r|lll}\n",
       "  & StudRes & Hat & CookD\\\\\n",
       "  & <dbl> & <dbl> & <dbl>\\\\\n",
       "\\hline\n",
       "\tAlabama &  1.8929461 & 0.1633673 & 0.091227696\\\\\n",
       "\tMaine & -1.9530614 & 0.1544834 & 0.090163412\\\\\n",
       "\tHawaii &  0.9374836 & 0.4937311 & 0.122996054\\\\\n",
       "\tAlaska &  0.1543445 & 0.5941719 & 0.005169483\\\\\n",
       "\tWashington & -0.9857404 & 0.4754373 & 0.125944332\\\\\n",
       "\tNevada &  1.8459168 & 0.2993280 & 0.190926279\\\\\n",
       "\\end{tabular}\n"
      ],
      "text/markdown": [
       "\n",
       "A data.frame: 6 × 3\n",
       "\n",
       "| <!--/--> | StudRes &lt;dbl&gt; | Hat &lt;dbl&gt; | CookD &lt;dbl&gt; |\n",
       "|---|---|---|---|\n",
       "| Alabama |  1.8929461 | 0.1633673 | 0.091227696 |\n",
       "| Maine | -1.9530614 | 0.1544834 | 0.090163412 |\n",
       "| Hawaii |  0.9374836 | 0.4937311 | 0.122996054 |\n",
       "| Alaska |  0.1543445 | 0.5941719 | 0.005169483 |\n",
       "| Washington | -0.9857404 | 0.4754373 | 0.125944332 |\n",
       "| Nevada |  1.8459168 | 0.2993280 | 0.190926279 |\n",
       "\n"
      ],
      "text/plain": [
       "           StudRes    Hat       CookD      \n",
       "Alabama     1.8929461 0.1633673 0.091227696\n",
       "Maine      -1.9530614 0.1544834 0.090163412\n",
       "Hawaii      0.9374836 0.4937311 0.122996054\n",
       "Alaska      0.1543445 0.5941719 0.005169483\n",
       "Washington -0.9857404 0.4754373 0.125944332\n",
       "Nevada      1.8459168 0.2993280 0.190926279"
      ]
     },
     "metadata": {},
     "output_type": "display_data"
    },
    {
     "data": {
      "image/png": "[encoded data removed]",
      "text/plain": [
       "Plot with title \"Influence Plot\""
      ]
     },
     "metadata": {
      "image/png": {
       "height": 420,
       "width": 420
      },
      "text/plain": {
       "height": 420,
       "width": 420
      }
     },
     "output_type": "display_data"
    }
   ],
   "source": [
    "library(car)\n",
    "influencePlot(fit, main=\"Influence Plot\",\n",
    "sub=\"Circle size is proportional to Cook's distance\")"
   ]
  },
  {
   "cell_type": "markdown",
   "metadata": {},
   "source": [
    "The influence plot shows that **Alabama** and **Maine** are very close to the -2 to 2 boundary and so could be outliers.\n",
    "\n",
    "Alaska has high leverage. and Nevada, Washington, Hawaii are influential observations."
   ]
  },
  {
   "cell_type": "markdown",
   "metadata": {},
   "source": [
    "## Homoscedasticity\n",
    "\n",
    "Homoscedasticity simply means that we need the data to have constant variance in our residuals.\n",
    "\n",
    "The car package also provides two useful functions for identifying non-constant error variance. \n",
    "\n",
    "The `ncvTest()` function produces a score test of the hypothesis of constant error variance against the alternative that the error variance changes with the level of the fitted values. \n",
    "\n",
    "A significant result suggests heteroscedasticity (nonconstant error variance)."
   ]
  },
  {
   "cell_type": "code",
   "execution_count": 292,
   "metadata": {},
   "outputs": [
    {
     "data": {
      "text/plain": [
       "Non-constant Variance Score Test \n",
       "Variance formula: ~ fitted.values \n",
       "Chisquare = 0.5649101, Df = 1, p = 0.45229"
      ]
     },
     "metadata": {},
     "output_type": "display_data"
    }
   ],
   "source": [
    "ncvTest(fit)"
   ]
  },
  {
   "cell_type": "markdown",
   "metadata": {},
   "source": [
    "The score test is nonsignificant (p = 0.45229), suggesting that we’ve met the constant variance assumption. If the p value is significant (p < 0.05), we would assume that the error variance changes with the level of the fitted values. "
   ]
  },
  {
   "cell_type": "markdown",
   "metadata": {},
   "source": [
    "The `spreadLevelPlot()` function creates a scatter plot of the absolute standardized residuals versus the fitted values and superimposes a line of best fit.\n",
    "\n",
    "The points form a random horizontal band around a horizontal line of best fit. If you’d violated the assumption, you’d expect to see a nonhorizontal line. \n",
    "\n",
    "The suggested power transformation in this chart is the suggested power p (Y<sup>p</sup>) that would stabilise the nonconstant error variance. \n",
    "\n",
    "For example, if the plot shows a non-horizontal trend and the suggested power transformation is 0.5, then using the **square root of Y** rather than Y in the regression equation might lead to a model that satisfied homoscedasticity. \n",
    "\n",
    "If the suggested power is 0, you should use a **log transformation**. \n",
    "\n",
    "In this example, it seesm that a transformation is required as the power transform value is 0.43. "
   ]
  },
  {
   "cell_type": "code",
   "execution_count": 293,
   "metadata": {},
   "outputs": [
    {
     "data": {
      "text/plain": [
       "\n",
       "Suggested power transformation:  0.4302846 "
      ]
     },
     "metadata": {},
     "output_type": "display_data"
    },
    {
     "data": {
      "image/png": "[encoded data removed]",
      "text/plain": [
       "Plot with title \"Spread-Level Plot for\n",
       " fit\""
      ]
     },
     "metadata": {
      "image/png": {
       "height": 420,
       "width": 420
      },
      "text/plain": {
       "height": 420,
       "width": 420
      }
     },
     "output_type": "display_data"
    }
   ],
   "source": [
    "spreadLevelPlot(fit)"
   ]
  },
  {
   "cell_type": "markdown",
   "metadata": {},
   "source": [
    "## Global validation of linear model assumption\n",
    "Finally, let’s examine the `gvlma()` function in the gvlma package. Written by Pena and Slate (2006), the `gvlma()` function performs a global validation of linear model assumptions as well as separate evaluations of skewness, kurtosis, and heteroscedasticity.\n",
    "\n",
    "In other words, it provides a single omnibus (go/no go) test of model assumptions.\n",
    "\n",
    "The following listing applies the test to the states data."
   ]
  },
  {
   "cell_type": "code",
   "execution_count": 294,
   "metadata": {},
   "outputs": [
    {
     "name": "stdout",
     "output_type": "stream",
     "text": [
      "\n",
      "Call:\n",
      "lm(formula = Murder ~ Population + Illiteracy + Income + Frost + \n",
      "    Life_Exp + HS_Grad, data = training_data)\n",
      "\n",
      "Residuals:\n",
      "    Min      1Q  Median      3Q     Max \n",
      "-3.2224 -1.2884 -0.2364  1.2507  3.1189 \n",
      "\n",
      "Coefficients:\n",
      "              Estimate Std. Error t value Pr(>|t|)    \n",
      "(Intercept)  1.249e+02  2.219e+01   5.627 5.68e-06 ***\n",
      "Population   2.272e-04  8.275e-05   2.746   0.0106 *  \n",
      "Illiteracy   2.447e+00  1.349e+00   1.813   0.0809 .  \n",
      "Income       1.186e-04  7.492e-04   0.158   0.8754    \n",
      "Frost       -6.392e-03  1.145e-02  -0.558   0.5812    \n",
      "Life_Exp    -1.780e+00  2.969e-01  -5.996 2.14e-06 ***\n",
      "HS_Grad      9.149e-02  7.384e-02   1.239   0.2260    \n",
      "---\n",
      "Signif. codes:  0 '***' 0.001 '**' 0.01 '*' 0.05 '.' 0.1 ' ' 1\n",
      "\n",
      "Residual standard error: 1.886 on 27 degrees of freedom\n",
      "Multiple R-squared:  0.8066,\tAdjusted R-squared:  0.7637 \n",
      "F-statistic: 18.77 on 6 and 27 DF,  p-value: 1.756e-08\n",
      "\n",
      "\n",
      "ASSESSMENT OF THE LINEAR MODEL ASSUMPTIONS\n",
      "USING THE GLOBAL TEST ON 4 DEGREES-OF-FREEDOM:\n",
      "Level of Significance =  0.05 \n",
      "\n",
      "Call:\n",
      " gvlma(x = fit) \n",
      "\n",
      "                     Value p-value                Decision\n",
      "Global Stat        1.57783  0.8128 Assumptions acceptable.\n",
      "Skewness           0.11900  0.7301 Assumptions acceptable.\n",
      "Kurtosis           0.94543  0.3309 Assumptions acceptable.\n",
      "Link Function      0.04123  0.8391 Assumptions acceptable.\n",
      "Heteroscedasticity 0.47216  0.4920 Assumptions acceptable.\n"
     ]
    }
   ],
   "source": [
    "library(gvlma)\n",
    "gvmodel <- gvlma(fit)\n",
    "summary(gvmodel)"
   ]
  },
  {
   "cell_type": "markdown",
   "metadata": {},
   "source": [
    "You can see from the output (the Global Stat line) that the data meet all the statistical assumptions that go with the OLS regression model (p = 0.8128). \n",
    "\n",
    "If the decision line indicated that the assumptions were violated (say, p < 0.05), you’d have to explore the\n",
    "data using the previous methods discussed in this practical session to determine which assumptions were the culprit."
   ]
  },
  {
   "cell_type": "markdown",
   "metadata": {},
   "source": [
    "### Multicollinearity\n",
    "Before completing regression diagnostics, let’s focus on a problem that’s not directly related to statistical assumptions but is important in allowing you to interpret multiple regression results. \n",
    "\n",
    "Imagine you’re conducting a study of grip strength. Your independent variables include date of birth (DOB) and age. You regress grip strength on DOB and age and find a significant overall F test at p < .001. But when you\n",
    "look at the individual regression coefficients for DOB and age, you find that they’re both nonsignificant (that is, there’s no evidence that either is related to grip strength). \n",
    "\n",
    "What happened?\n",
    "\n",
    "The problem is that DOB and age are perfectly correlated within rounding error. A regression coefficient measures the impact of one predictor variable on the response variable, holding all other predictor variables constant. \n",
    "\n",
    "This amounts to looking at the relationship of grip strength and age, holding age constant. The problem is called\n",
    "multicollinearity. It leads to large confidence intervals for model parameters and makes the interpretation of individual coefficients difficult.\n",
    "\n",
    "Multicollinearity can be detected using a statistic called the **variance inflation factor (VIF)**. For any predictor variable, the square root of the VIF indicates the degree to which the confidence interval for that variable’s regression parameter is expanded relative to a model with uncorrelated predictors (hence the name). \n",
    "\n",
    "VIF values are provided by the `vif()` function in the `car` package. As a general rule, indicates a multicollinearity problem."
   ]
  },
  {
   "cell_type": "code",
   "execution_count": 295,
   "metadata": {},
   "outputs": [
    {
     "data": {
      "text/html": [
       "<style>\n",
       ".dl-inline {width: auto; margin:0; padding: 0}\n",
       ".dl-inline>dt, .dl-inline>dd {float: none; width: auto; display: inline-block}\n",
       ".dl-inline>dt::after {content: \":\\0020\"; padding-right: .5ex}\n",
       ".dl-inline>dt:not(:first-of-type) {padding-left: .5ex}\n",
       "</style><dl class=dl-inline><dt>Population</dt><dd>1.5143</dd><dt>Illiteracy</dt><dd>5.5429</dd><dt>Income</dt><dd>2.2291</dd><dt>Frost</dt><dd>3.5351</dd><dt>Life_Exp</dt><dd>1.6891</dd><dt>HS_Grad</dt><dd>3.5467</dd></dl>\n"
      ],
      "text/latex": [
       "\\begin{description*}\n",
       "\\item[Population] 1.5143\n",
       "\\item[Illiteracy] 5.5429\n",
       "\\item[Income] 2.2291\n",
       "\\item[Frost] 3.5351\n",
       "\\item[Life\\textbackslash{}\\_Exp] 1.6891\n",
       "\\item[HS\\textbackslash{}\\_Grad] 3.5467\n",
       "\\end{description*}\n"
      ],
      "text/markdown": [
       "Population\n",
       ":   1.5143Illiteracy\n",
       ":   5.5429Income\n",
       ":   2.2291Frost\n",
       ":   3.5351Life_Exp\n",
       ":   1.6891HS_Grad\n",
       ":   3.5467\n",
       "\n"
      ],
      "text/plain": [
       "Population Illiteracy     Income      Frost   Life_Exp    HS_Grad \n",
       "    1.5143     5.5429     2.2291     3.5351     1.6891     3.5467 "
      ]
     },
     "metadata": {},
     "output_type": "display_data"
    }
   ],
   "source": [
    "library(car)\n",
    "vif(fit)"
   ]
  },
  {
   "cell_type": "code",
   "execution_count": 296,
   "metadata": {},
   "outputs": [
    {
     "data": {
      "text/html": [
       "<style>\n",
       ".dl-inline {width: auto; margin:0; padding: 0}\n",
       ".dl-inline>dt, .dl-inline>dd {float: none; width: auto; display: inline-block}\n",
       ".dl-inline>dt::after {content: \":\\0020\"; padding-right: .5ex}\n",
       ".dl-inline>dt:not(:first-of-type) {padding-left: .5ex}\n",
       "</style><dl class=dl-inline><dt>Population</dt><dd>FALSE</dd><dt>Illiteracy</dt><dd>TRUE</dd><dt>Income</dt><dd>FALSE</dd><dt>Frost</dt><dd>FALSE</dd><dt>Life_Exp</dt><dd>FALSE</dd><dt>HS_Grad</dt><dd>FALSE</dd></dl>\n"
      ],
      "text/latex": [
       "\\begin{description*}\n",
       "\\item[Population] FALSE\n",
       "\\item[Illiteracy] TRUE\n",
       "\\item[Income] FALSE\n",
       "\\item[Frost] FALSE\n",
       "\\item[Life\\textbackslash{}\\_Exp] FALSE\n",
       "\\item[HS\\textbackslash{}\\_Grad] FALSE\n",
       "\\end{description*}\n"
      ],
      "text/markdown": [
       "Population\n",
       ":   FALSEIlliteracy\n",
       ":   TRUEIncome\n",
       ":   FALSEFrost\n",
       ":   FALSELife_Exp\n",
       ":   FALSEHS_Grad\n",
       ":   FALSE\n",
       "\n"
      ],
      "text/plain": [
       "Population Illiteracy     Income      Frost   Life_Exp    HS_Grad \n",
       "     FALSE       TRUE      FALSE      FALSE      FALSE      FALSE "
      ]
     },
     "metadata": {},
     "output_type": "display_data"
    }
   ],
   "source": [
    "# We can check whether any of the variables indicate a multicollinearity problem\n",
    "# if the value > 2 \n",
    "sqrt(vif(fit)) > 2"
   ]
  },
  {
   "cell_type": "markdown",
   "metadata": {},
   "source": [
    "## Transforming variables\n",
    "When MLR model doesn't meet the normality, linearity, or homoscedasticity assumptions, transforming one or more variables can often improve or correct the situation. \n",
    "\n",
    "Transformations typically involve replacing a variable Y with Y<sup>λ</sup>. Common values of λ and\n",
    "their interpretations are given in table below. If Y is a proportion, a logit transformation\n",
    "**(ln (Y/1-Y))** is often used.\n",
    "\n",
    "When the model violates the normality assumption, you typically attempt a transformation of the response variable. In this example, we would transform the `murder` variable if a transformation is required."
   ]
  },
  {
   "cell_type": "markdown",
   "metadata": {},
   "source": [
    "\n",
    "| Lamda | -2 | -1 | -0.5 | 0 | 0.5 | 1 | 2|\n",
    "|-------|----|----|------|---|-----|---|--|\n",
    "| Transformation | 1/y2 | 1/Y | 1/ sqrt Y | log(Y) | sqrt (Y) | None | y^ |"
   ]
  },
  {
   "cell_type": "markdown",
   "metadata": {},
   "source": [
    "We can use the `powerTransform()` function in the `car` package to generate a maximum-likelihood estimation of the power λ most likely to normalize the variable X<sup>λ</sup>. \n",
    "\n",
    "The powerTransform() determines the optimal power at which you should raise the outcome variable (in this case, Murder) prior to including it in a linear regression model. The optimal power is denoted by lambda, so Murder^lambda becomes the transformed outcome variable.\n",
    "\n",
    "See https://www.rdocumentation.org/packages/asremlPlus/versions/4.2-18/topics/powerTransform\n",
    "\n",
    "Here is how we apply this to the states training data."
   ]
  },
  {
   "cell_type": "code",
   "execution_count": 326,
   "metadata": {
    "scrolled": true
   },
   "outputs": [
    {
     "data": {
      "text/plain": [
       "bcPower Transformation to Normality \n",
       "                     Est Power Rounded Pwr Wald Lwr Bnd Wald Upr Bnd\n",
       "training_data$Murder     0.483           1      -0.1102       1.0762\n",
       "\n",
       "Likelihood ratio test that transformation parameter is equal to 0\n",
       " (log transformation)\n",
       "                           LRT df  pval\n",
       "LR test, lambda = (0) 2.689658  1 0.101\n",
       "\n",
       "Likelihood ratio test that no transformation is needed\n",
       "                           LRT df     pval\n",
       "LR test, lambda = (1) 2.733523  1 0.098262"
      ]
     },
     "metadata": {},
     "output_type": "display_data"
    }
   ],
   "source": [
    "library(car)\n",
    "summary(powerTransform(training_data$Murder))"
   ]
  },
  {
   "cell_type": "markdown",
   "metadata": {},
   "source": [
    "The results suggest that we can normalize the variable Murder by replacing it with Murder<sup>0.48</sup>. From examining the table above, we could apply a **square-root transformation** to improve the model’s fit to normality. \n",
    "\n",
    "And the hypothesis **Likelihood ratio test that no transformation is needed** shows that λ=1 cannot be rejected as it is more than the cutoff value (p = 0.098262). That means there's no strong evidence that a transformation is needed in this case. This is consistent with the results of the Q-Q plot and in the `spreadlevelplot()`.\n",
    "\n",
    "The test suggests that I should convert the Murder variable by transforming it with the `sqrt(Y)`."
   ]
  },
  {
   "cell_type": "markdown",
   "metadata": {},
   "source": [
    "## Comparing models using AIC\n",
    "You can compare the fit of several models using the `AIC()` function in the base installation.\n",
    "\n",
    "I'm going to compare whether a `sqrt()` transform of the `Murder` response variable improves the overall model fit.\n",
    "\n"
   ]
  },
  {
   "cell_type": "code",
   "execution_count": 327,
   "metadata": {},
   "outputs": [],
   "source": [
    "# Transform Murder varaible as indicated by spreadLevelPlot() function\n",
    "sqrt_transform_murder <- sqrt(training_data$Murder)\n",
    "training_data$Murder_sqrt <- sqrt_transform_murder"
   ]
  },
  {
   "cell_type": "code",
   "execution_count": 328,
   "metadata": {},
   "outputs": [
    {
     "data": {
      "text/html": [
       "<table>\n",
       "<caption>A data.frame: 2 × 2</caption>\n",
       "<thead>\n",
       "\t<tr><th></th><th scope=col>df</th><th scope=col>AIC</th></tr>\n",
       "\t<tr><th></th><th scope=col>&lt;dbl&gt;</th><th scope=col>&lt;dbl&gt;</th></tr>\n",
       "</thead>\n",
       "<tbody>\n",
       "\t<tr><th scope=row>fit_model1</th><td>8</td><td>147.77668</td></tr>\n",
       "\t<tr><th scope=row>fit_model2</th><td>8</td><td> 37.90138</td></tr>\n",
       "</tbody>\n",
       "</table>\n"
      ],
      "text/latex": [
       "A data.frame: 2 × 2\n",
       "\\begin{tabular}{r|ll}\n",
       "  & df & AIC\\\\\n",
       "  & <dbl> & <dbl>\\\\\n",
       "\\hline\n",
       "\tfit\\_model1 & 8 & 147.77668\\\\\n",
       "\tfit\\_model2 & 8 &  37.90138\\\\\n",
       "\\end{tabular}\n"
      ],
      "text/markdown": [
       "\n",
       "A data.frame: 2 × 2\n",
       "\n",
       "| <!--/--> | df &lt;dbl&gt; | AIC &lt;dbl&gt; |\n",
       "|---|---|---|\n",
       "| fit_model1 | 8 | 147.77668 |\n",
       "| fit_model2 | 8 |  37.90138 |\n",
       "\n"
      ],
      "text/plain": [
       "           df AIC      \n",
       "fit_model1 8  147.77668\n",
       "fit_model2 8   37.90138"
      ]
     },
     "metadata": {},
     "output_type": "display_data"
    }
   ],
   "source": [
    "fit_model1 <- lm(Murder ~ Population + Illiteracy + Income + Frost + Life_Exp + HS_Grad, data=training_data)\n",
    "fit_model2 <- lm(Murder_sqrt ~ Population + Illiteracy + Income + Frost + Life_Exp + HS_Grad, data=training_data)\n",
    "AIC(fit_model1,fit_model2)"
   ]
  },
  {
   "cell_type": "markdown",
   "metadata": {},
   "source": [
    "The AIC values suggest that the model with **transformed murder variable** response variable is the better model. The AIC approach does not need both models to contain the same predictor variables, they do not need to be nested. A nested model is one whose terms are completely included in the other model.\n",
    "\n",
    "The index takes into account a model’s statistical fit and the number of parameters needed to achieve this fit. Models with smaller AIC values indicating adequate fit with fewer parameters are preferred. The comparison is provided by the `AIC()` function. In this example we can see that `fit_model2` is better than `fit_model1`."
   ]
  },
  {
   "cell_type": "code",
   "execution_count": 329,
   "metadata": {},
   "outputs": [
    {
     "data": {
      "text/plain": [
       "\n",
       "Suggested power transformation:  0.8871907 "
      ]
     },
     "metadata": {},
     "output_type": "display_data"
    },
    {
     "data": {
      "image/png": "[encoded data removed]",
      "text/plain": [
       "Plot with title \"Spread-Level Plot for\n",
       " fit_model2\""
      ]
     },
     "metadata": {
      "image/png": {
       "height": 420,
       "width": 420
      },
      "text/plain": {
       "height": 420,
       "width": 420
      }
     },
     "output_type": "display_data"
    }
   ],
   "source": [
    "spreadLevelPlot(fit_model2)"
   ]
  },
  {
   "cell_type": "markdown",
   "metadata": {},
   "source": [
    "## Comparing multiple models\n",
    "\n",
    "Comparing two models is relatively straightforward, but what do you do when there are 4, or 10, or 100 possible models to consider?\n",
    "\n",
    "We can apply two popular approaches to selecting a final set of predictor variables from a larger pool of candidate variables are **stepwise methods** and **all-subsets** regression\n",
    "\n",
    "### STEPWISE REGRESSION\n",
    "In stepwise selection, variables are added to or deleted from a model one at a time, until some stopping criteria is reached. \n",
    "\n",
    "For example, in forward stepwise regression, you add predictor variables to the model one at a time, stopping when the addition of variables would no longer improve the model. \n",
    "\n",
    "In backward stepwise regression, you start with a model that includes all predictor variables, and then you delete them one at a time until removing variables would degrade the quality of the model. \n",
    "\n",
    "In stepwise stepwise regression (usually called both to avoid sounding silly), you combine the forward and backward stepwise approaches. \n",
    "\n",
    "Variables are entered one at a time, but at each step, the variables in the model are reevaluated, and those that don’t contribute to the model are deleted. \n",
    "\n",
    "A predictor variable may be added to, and deleted from, a model several times before a final solution is reached.\n",
    "\n",
    "The implementation of stepwise regression methods varies by the criteria used to enter or remove variables. The `stepAIC()` function in the `MASS` package performs stepwise model selection (forward, backward, or stepwise) using an exact AIC criterion. \n",
    "\n",
    "See https://www.rdocumentation.org/packages/MASS/versions/7.3-51.6/topics/stepAIC for more information.\n",
    "\n",
    "In this code I'm applying **backward** stepwise regression to the problem."
   ]
  },
  {
   "cell_type": "code",
   "execution_count": 338,
   "metadata": {},
   "outputs": [
    {
     "name": "stdout",
     "output_type": "stream",
     "text": [
      "Start:  AIC=49.29\n",
      "Murder ~ Population + Illiteracy + Income + Frost + Life_Exp + \n",
      "    HS_Grad\n",
      "\n",
      "             Df Sum of Sq     RSS    AIC\n",
      "- Income      1     0.089  96.081 47.320\n",
      "- Frost       1     1.108  97.101 47.679\n",
      "- HS_Grad     1     5.457 101.449 49.169\n",
      "<none>                     95.992 49.289\n",
      "- Illiteracy  1    11.691 107.683 51.196\n",
      "- Population  1    26.803 122.796 55.662\n",
      "- Life_Exp    1   127.824 223.816 76.072\n",
      "\n",
      "Step:  AIC=47.32\n",
      "Murder ~ Population + Illiteracy + Frost + Life_Exp + HS_Grad\n",
      "\n",
      "             Df Sum of Sq     RSS    AIC\n",
      "- Frost       1     1.027  97.109 45.682\n",
      "<none>                     96.081 47.320\n",
      "- HS_Grad     1    11.257 107.339 49.087\n",
      "- Illiteracy  1    14.332 110.413 50.048\n",
      "- Population  1    34.428 130.510 55.733\n",
      "- Life_Exp    1   129.102 225.184 74.279\n",
      "\n",
      "Step:  AIC=45.68\n",
      "Murder ~ Population + Illiteracy + Life_Exp + HS_Grad\n",
      "\n",
      "             Df Sum of Sq     RSS    AIC\n",
      "<none>                     97.109 45.682\n",
      "- HS_Grad     1    13.855 110.964 48.217\n",
      "- Population  1    48.999 146.108 57.572\n",
      "- Illiteracy  1    50.771 147.880 57.981\n",
      "- Life_Exp    1   135.959 233.068 73.449\n"
     ]
    },
    {
     "data": {
      "text/plain": [
       "\n",
       "Call:\n",
       "lm(formula = Murder ~ Population + Illiteracy + Life_Exp + HS_Grad, \n",
       "    data = training_data)\n",
       "\n",
       "Coefficients:\n",
       "(Intercept)   Population   Illiteracy     Life_Exp      HS_Grad  \n",
       "  1.191e+02    2.503e-04    3.043e+00   -1.723e+00    1.066e-01  \n"
      ]
     },
     "metadata": {},
     "output_type": "display_data"
    }
   ],
   "source": [
    "library(MASS)\n",
    "fit_test <- lm(Murder ~ Population + Illiteracy + Income + Frost + Life_Exp + HS_Grad, data=training_data)\n",
    "stepAIC(fit_test, direction=\"backward\")"
   ]
  },
  {
   "cell_type": "markdown",
   "metadata": {},
   "source": [
    "We start with all 6 predictors in the model. For each step, the AIC column provides the model AIC resulting from the deletion of the variable listed in that row. \n",
    "\n",
    "The AIC value for <none> is the model AIC if no variables are removed. In the first step, `Income` is removed, decreasing the AIC from 49.29 to 47.32. \n",
    "    \n",
    "In the second step, `Frost` is removed, decreasing the AIC to 45.68. Deleting any more variables would increase the AIC, so the process stops. The stepwise check suggests that **Population + Illiteracy + Life_Exp + HS_Grad** is the best combination of model.\n",
    "\n",
    "Stepwise regression is controversial. Although it may find a good model, there’s no guarantee that it will find the “best” model. This is because not every possible model is evaluated. \n",
    "    \n",
    "An approach that attempts to overcome this limitation is all subsets regression."
   ]
  },
  {
   "cell_type": "code",
   "execution_count": 333,
   "metadata": {
    "scrolled": false
   },
   "outputs": [
    {
     "data": {
      "image/png": "[encoded data removed]",
      "text/plain": [
       "plot without title"
      ]
     },
     "metadata": {
      "image/png": {
       "height": 420,
       "width": 420
      },
      "text/plain": {
       "height": 420,
       "width": 420
      }
     },
     "output_type": "display_data"
    }
   ],
   "source": [
    "#library(leaps)\n",
    "leaps <-regsubsets(Murder ~ Population + Illiteracy + Income + Frost + Life_Exp + HS_Grad, data=training_data, nbest=4)\n",
    "plot(leaps, scale=\"adjr2\")"
   ]
  },
  {
   "cell_type": "markdown",
   "metadata": {},
   "source": [
    "This figure can be confusing to read. Looking at the first row (starting at the bottom), you can see that a model with the `intercept` and `HS_Grad` has an adjusted R-square of 0.13. \n",
    "\n",
    "A model with the `intercept` and `Frost` has an adjusted R-square of 0.22.\n",
    "\n",
    "Jumping to the top row, a model with the `intercept`, `Population`, `Illiteracy`, `Life_Exp` and `HS_Grade` has an adjusted R-square of 0.78, whereas one with the `intercept`, `Population`, `Illiteracy`, `Frost`, `Life_Exp` and `HS_Grad` has an adjusted R-square of 0.78. \n",
    "\n",
    "Here you see that a model with `intercept`, `Population`, `Illiteracy`, `Life_Exp` and `HS_Grad` is the best. This correlates with the stepwise check.\n",
    "\n",
    "Lets see how that works with the transformed `Murder` response variable."
   ]
  },
  {
   "cell_type": "code",
   "execution_count": 339,
   "metadata": {},
   "outputs": [
    {
     "name": "stdout",
     "output_type": "stream",
     "text": [
      "Start:  AIC=-60.59\n",
      "Murder_sqrt ~ Population + Illiteracy + Income + Frost + Life_Exp + \n",
      "    HS_Grad\n",
      "\n",
      "             Df Sum of Sq    RSS     AIC\n",
      "- Income      1    0.0008 3.7919 -62.579\n",
      "- Frost       1    0.1173 3.9084 -61.550\n",
      "<none>                    3.7910 -60.586\n",
      "- Illiteracy  1    0.3538 4.1448 -59.553\n",
      "- HS_Grad     1    0.3900 4.1810 -59.257\n",
      "- Population  1    1.0123 4.8034 -54.539\n",
      "- Life_Exp    1    5.2607 9.0518 -32.996\n",
      "\n",
      "Step:  AIC=-62.58\n",
      "Murder_sqrt ~ Population + Illiteracy + Frost + Life_Exp + HS_Grad\n",
      "\n",
      "             Df Sum of Sq    RSS     AIC\n",
      "- Frost       1    0.1436 3.9355 -63.315\n",
      "<none>                    3.7919 -62.579\n",
      "- Illiteracy  1    0.3933 4.1852 -61.223\n",
      "- HS_Grad     1    0.6442 4.4360 -59.244\n",
      "- Population  1    1.2085 5.0004 -55.173\n",
      "- Life_Exp    1    5.3670 9.1589 -34.596\n",
      "\n",
      "Step:  AIC=-63.31\n",
      "Murder_sqrt ~ Population + Illiteracy + Life_Exp + HS_Grad\n",
      "\n",
      "             Df Sum of Sq    RSS     AIC\n",
      "<none>                    3.9355 -63.315\n",
      "- HS_Grad     1    0.8562 4.7917 -58.622\n",
      "- Population  1    1.9671 5.9026 -51.533\n",
      "- Illiteracy  1    2.0549 5.9904 -51.031\n",
      "- Life_Exp    1    5.3758 9.3113 -36.035\n"
     ]
    },
    {
     "data": {
      "text/plain": [
       "\n",
       "Call:\n",
       "lm(formula = Murder_sqrt ~ Population + Illiteracy + Life_Exp + \n",
       "    HS_Grad, data = training_data)\n",
       "\n",
       "Coefficients:\n",
       "(Intercept)   Population   Illiteracy     Life_Exp      HS_Grad  \n",
       "  2.453e+01    5.014e-05    6.122e-01   -3.426e-01    2.649e-02  \n"
      ]
     },
     "metadata": {},
     "output_type": "display_data"
    }
   ],
   "source": [
    "library(MASS)\n",
    "fit_test <- lm(Murder_sqrt ~ Population + Illiteracy + Income + Frost + Life_Exp + HS_Grad, data=training_data)\n",
    "stepAIC(fit_test, direction=\"backward\")"
   ]
  },
  {
   "cell_type": "markdown",
   "metadata": {},
   "source": [
    "This suggest that again **Population + Illiteracy + Life_Exp + HS_Grad** is the best combination of model."
   ]
  },
  {
   "cell_type": "code",
   "execution_count": 334,
   "metadata": {},
   "outputs": [
    {
     "data": {
      "image/png": "[encoded data removed]",
      "text/plain": [
       "plot without title"
      ]
     },
     "metadata": {
      "image/png": {
       "height": 420,
       "width": 420
      },
      "text/plain": {
       "height": 420,
       "width": 420
      }
     },
     "output_type": "display_data"
    }
   ],
   "source": [
    "#library(leaps)\n",
    "leaps <-regsubsets(Murder_sqrt ~ Population + Illiteracy + Income + Frost + Life_Exp + HS_Grad, data=training_data, nbest=4)\n",
    "plot(leaps, scale=\"adjr2\")"
   ]
  },
  {
   "cell_type": "markdown",
   "metadata": {},
   "source": [
    "Jumping to the top row, a model with the `intercept`, `Population`, `Illiteracy`, `Life_Exp` and `HS_Grade` has an adjusted R-square of 0.78, whereas one with the `intercept`, `Population`, `Illiteracy`, `Frost`, `Life_Exp` and `HS_Grad` has an adjusted R-square of 0.78. \n",
    "\n",
    "Here you see that a model with `intercept`, `Population`, `Illiteracy`, `Life_Exp` and `HS_Grad` is still the best.\n",
    "\n",
    "Lets examine predicted accuracy."
   ]
  },
  {
   "cell_type": "code",
   "execution_count": 340,
   "metadata": {},
   "outputs": [],
   "source": [
    "fit_model <- lm(Murder ~ Population + Illiteracy + Life_Exp + HS_Grad, data=training_data)\n",
    "fit_model_sqrt <- lm(Murder_sqrt ~ Population + Illiteracy + Life_Exp + HS_Grad, data=training_data)"
   ]
  },
  {
   "cell_type": "code",
   "execution_count": 350,
   "metadata": {},
   "outputs": [],
   "source": [
    "predicted_murder <- predict(fit_model, testing_data)\n",
    "predicted_murder_sqrt <- predict(fit_model_sqrt, testing_data)\n",
    "converted_murder_sqrt <- predicted_murder_sqrt ^2"
   ]
  },
  {
   "cell_type": "code",
   "execution_count": 342,
   "metadata": {
    "scrolled": true
   },
   "outputs": [
    {
     "data": {
      "text/html": [
       "<table>\n",
       "<caption>A data.frame: 6 × 2</caption>\n",
       "<thead>\n",
       "\t<tr><th></th><th scope=col>actuals</th><th scope=col>predicted</th></tr>\n",
       "\t<tr><th></th><th scope=col>&lt;dbl&gt;</th><th scope=col>&lt;dbl&gt;</th></tr>\n",
       "</thead>\n",
       "<tbody>\n",
       "\t<tr><th scope=row>Florida</th><td>10.7</td><td> 8.953063</td></tr>\n",
       "\t<tr><th scope=row>Idaho</th><td> 5.3</td><td> 3.605561</td></tr>\n",
       "\t<tr><th scope=row>Indiana</th><td> 7.1</td><td> 6.038288</td></tr>\n",
       "\t<tr><th scope=row>Kentucky</th><td>10.6</td><td> 8.104348</td></tr>\n",
       "\t<tr><th scope=row>Louisiana</th><td>13.2</td><td>14.564172</td></tr>\n",
       "\t<tr><th scope=row>Maryland</th><td> 8.5</td><td> 7.422066</td></tr>\n",
       "</tbody>\n",
       "</table>\n"
      ],
      "text/latex": [
       "A data.frame: 6 × 2\n",
       "\\begin{tabular}{r|ll}\n",
       "  & actuals & predicted\\\\\n",
       "  & <dbl> & <dbl>\\\\\n",
       "\\hline\n",
       "\tFlorida & 10.7 &  8.953063\\\\\n",
       "\tIdaho &  5.3 &  3.605561\\\\\n",
       "\tIndiana &  7.1 &  6.038288\\\\\n",
       "\tKentucky & 10.6 &  8.104348\\\\\n",
       "\tLouisiana & 13.2 & 14.564172\\\\\n",
       "\tMaryland &  8.5 &  7.422066\\\\\n",
       "\\end{tabular}\n"
      ],
      "text/markdown": [
       "\n",
       "A data.frame: 6 × 2\n",
       "\n",
       "| <!--/--> | actuals &lt;dbl&gt; | predicted &lt;dbl&gt; |\n",
       "|---|---|---|\n",
       "| Florida | 10.7 |  8.953063 |\n",
       "| Idaho |  5.3 |  3.605561 |\n",
       "| Indiana |  7.1 |  6.038288 |\n",
       "| Kentucky | 10.6 |  8.104348 |\n",
       "| Louisiana | 13.2 | 14.564172 |\n",
       "| Maryland |  8.5 |  7.422066 |\n",
       "\n"
      ],
      "text/plain": [
       "          actuals predicted\n",
       "Florida   10.7     8.953063\n",
       "Idaho      5.3     3.605561\n",
       "Indiana    7.1     6.038288\n",
       "Kentucky  10.6     8.104348\n",
       "Louisiana 13.2    14.564172\n",
       "Maryland   8.5     7.422066"
      ]
     },
     "metadata": {},
     "output_type": "display_data"
    }
   ],
   "source": [
    "# make actuals_predicted dataframe.\n",
    "actuals_predictions <- data.frame(cbind(actuals = testing_data$Murder, predicted = predicted_murder))\n",
    "head(actuals_predictions)"
   ]
  },
  {
   "cell_type": "code",
   "execution_count": 351,
   "metadata": {},
   "outputs": [
    {
     "data": {
      "text/html": [
       "<table>\n",
       "<caption>A data.frame: 6 × 2</caption>\n",
       "<thead>\n",
       "\t<tr><th></th><th scope=col>actuals</th><th scope=col>predicted</th></tr>\n",
       "\t<tr><th></th><th scope=col>&lt;dbl&gt;</th><th scope=col>&lt;dbl&gt;</th></tr>\n",
       "</thead>\n",
       "<tbody>\n",
       "\t<tr><th scope=row>Florida</th><td>10.7</td><td> 8.541811</td></tr>\n",
       "\t<tr><th scope=row>Idaho</th><td> 5.3</td><td> 3.564880</td></tr>\n",
       "\t<tr><th scope=row>Indiana</th><td> 7.1</td><td> 5.472108</td></tr>\n",
       "\t<tr><th scope=row>Kentucky</th><td>10.6</td><td> 7.179191</td></tr>\n",
       "\t<tr><th scope=row>Louisiana</th><td>13.2</td><td>15.937696</td></tr>\n",
       "\t<tr><th scope=row>Maryland</th><td> 8.5</td><td> 6.823588</td></tr>\n",
       "</tbody>\n",
       "</table>\n"
      ],
      "text/latex": [
       "A data.frame: 6 × 2\n",
       "\\begin{tabular}{r|ll}\n",
       "  & actuals & predicted\\\\\n",
       "  & <dbl> & <dbl>\\\\\n",
       "\\hline\n",
       "\tFlorida & 10.7 &  8.541811\\\\\n",
       "\tIdaho &  5.3 &  3.564880\\\\\n",
       "\tIndiana &  7.1 &  5.472108\\\\\n",
       "\tKentucky & 10.6 &  7.179191\\\\\n",
       "\tLouisiana & 13.2 & 15.937696\\\\\n",
       "\tMaryland &  8.5 &  6.823588\\\\\n",
       "\\end{tabular}\n"
      ],
      "text/markdown": [
       "\n",
       "A data.frame: 6 × 2\n",
       "\n",
       "| <!--/--> | actuals &lt;dbl&gt; | predicted &lt;dbl&gt; |\n",
       "|---|---|---|\n",
       "| Florida | 10.7 |  8.541811 |\n",
       "| Idaho |  5.3 |  3.564880 |\n",
       "| Indiana |  7.1 |  5.472108 |\n",
       "| Kentucky | 10.6 |  7.179191 |\n",
       "| Louisiana | 13.2 | 15.937696 |\n",
       "| Maryland |  8.5 |  6.823588 |\n",
       "\n"
      ],
      "text/plain": [
       "          actuals predicted\n",
       "Florida   10.7     8.541811\n",
       "Idaho      5.3     3.564880\n",
       "Indiana    7.1     5.472108\n",
       "Kentucky  10.6     7.179191\n",
       "Louisiana 13.2    15.937696\n",
       "Maryland   8.5     6.823588"
      ]
     },
     "metadata": {},
     "output_type": "display_data"
    }
   ],
   "source": [
    "# make actuals_predicted dataframe for sqrt(Murder)\n",
    "actuals_predictions_sqrt <-  data.frame(cbind(actuals = testing_data$Murder, predicted = converted_murder_sqrt))\n",
    "head(actuals_predictions_sqrt)"
   ]
  },
  {
   "cell_type": "code",
   "execution_count": 344,
   "metadata": {},
   "outputs": [
    {
     "data": {
      "text/html": [
       "<table>\n",
       "<caption>A matrix: 2 × 2 of type dbl</caption>\n",
       "<thead>\n",
       "\t<tr><th></th><th scope=col>actuals</th><th scope=col>predicted</th></tr>\n",
       "</thead>\n",
       "<tbody>\n",
       "\t<tr><th scope=row>actuals</th><td>1.0000000</td><td>0.8722871</td></tr>\n",
       "\t<tr><th scope=row>predicted</th><td>0.8722871</td><td>1.0000000</td></tr>\n",
       "</tbody>\n",
       "</table>\n"
      ],
      "text/latex": [
       "A matrix: 2 × 2 of type dbl\n",
       "\\begin{tabular}{r|ll}\n",
       "  & actuals & predicted\\\\\n",
       "\\hline\n",
       "\tactuals & 1.0000000 & 0.8722871\\\\\n",
       "\tpredicted & 0.8722871 & 1.0000000\\\\\n",
       "\\end{tabular}\n"
      ],
      "text/markdown": [
       "\n",
       "A matrix: 2 × 2 of type dbl\n",
       "\n",
       "| <!--/--> | actuals | predicted |\n",
       "|---|---|---|\n",
       "| actuals | 1.0000000 | 0.8722871 |\n",
       "| predicted | 0.8722871 | 1.0000000 |\n",
       "\n"
      ],
      "text/plain": [
       "          actuals   predicted\n",
       "actuals   1.0000000 0.8722871\n",
       "predicted 0.8722871 1.0000000"
      ]
     },
     "metadata": {},
     "output_type": "display_data"
    }
   ],
   "source": [
    "correlation_accuracy <- cor(actuals_predictions)\n",
    "correlation_accuracy"
   ]
  },
  {
   "cell_type": "markdown",
   "metadata": {},
   "source": [
    "The model show us that it has 87% colleration accuracy."
   ]
  },
  {
   "cell_type": "code",
   "execution_count": 349,
   "metadata": {
    "scrolled": true
   },
   "outputs": [
    {
     "data": {
      "text/html": [
       "<table>\n",
       "<caption>A matrix: 2 × 2 of type dbl</caption>\n",
       "<thead>\n",
       "\t<tr><th></th><th scope=col>actuals</th><th scope=col>predicted</th></tr>\n",
       "</thead>\n",
       "<tbody>\n",
       "\t<tr><th scope=row>actuals</th><td>1.0000000</td><td>0.8500702</td></tr>\n",
       "\t<tr><th scope=row>predicted</th><td>0.8500702</td><td>1.0000000</td></tr>\n",
       "</tbody>\n",
       "</table>\n"
      ],
      "text/latex": [
       "A matrix: 2 × 2 of type dbl\n",
       "\\begin{tabular}{r|ll}\n",
       "  & actuals & predicted\\\\\n",
       "\\hline\n",
       "\tactuals & 1.0000000 & 0.8500702\\\\\n",
       "\tpredicted & 0.8500702 & 1.0000000\\\\\n",
       "\\end{tabular}\n"
      ],
      "text/markdown": [
       "\n",
       "A matrix: 2 × 2 of type dbl\n",
       "\n",
       "| <!--/--> | actuals | predicted |\n",
       "|---|---|---|\n",
       "| actuals | 1.0000000 | 0.8500702 |\n",
       "| predicted | 0.8500702 | 1.0000000 |\n",
       "\n"
      ],
      "text/plain": [
       "          actuals   predicted\n",
       "actuals   1.0000000 0.8500702\n",
       "predicted 0.8500702 1.0000000"
      ]
     },
     "metadata": {},
     "output_type": "display_data"
    }
   ],
   "source": [
    "correlation_accuracy <- cor(actuals_predictions_sqrt)\n",
    "correlation_accuracy"
   ]
  },
  {
   "cell_type": "markdown",
   "metadata": {},
   "source": [
    "The model show us that it has 85% colleration accuracy. Not much difference between both models.\n",
    "\n",
    "Now we’ll calculate min max accuracy and mean absolute percentage error (MAPE) which is a measure of prediction accuracy."
   ]
  },
  {
   "cell_type": "code",
   "execution_count": 245,
   "metadata": {
    "scrolled": false
   },
   "outputs": [
    {
     "data": {
      "text/html": [
       "0.831132464943625"
      ],
      "text/latex": [
       "0.831132464943625"
      ],
      "text/markdown": [
       "0.831132464943625"
      ],
      "text/plain": [
       "[1] 0.8311325"
      ]
     },
     "metadata": {},
     "output_type": "display_data"
    }
   ],
   "source": [
    "# Min - max accuracy\n",
    "min_max_accuracy <- mean(apply(actuals_predictions, 1, min) / apply(actuals_predictions, 1, max))\n",
    "min_max_accuracy"
   ]
  },
  {
   "cell_type": "markdown",
   "metadata": {},
   "source": [
    "The MAPE for the sqrt of Murder model is better."
   ]
  },
  {
   "cell_type": "code",
   "execution_count": 353,
   "metadata": {},
   "outputs": [
    {
     "data": {
      "text/html": [
       "0.803828649062725"
      ],
      "text/latex": [
       "0.803828649062725"
      ],
      "text/markdown": [
       "0.803828649062725"
      ],
      "text/plain": [
       "[1] 0.8038286"
      ]
     },
     "metadata": {},
     "output_type": "display_data"
    }
   ],
   "source": [
    "# Min - max accuracy\n",
    "min_max_accuracy <- mean(apply(actuals_predictions_sqrt, 1, min) / apply(actuals_predictions_sqrt, 1, max))\n",
    "min_max_accuracy"
   ]
  },
  {
   "cell_type": "markdown",
   "metadata": {},
   "source": [
    "## Residual Standard Error (RSE), or sigma\n",
    "\n",
    "The RSE estimate gives a measure of error of prediction. The lower the RSE, the more accurate the model (on the data in hand).\n",
    "\n",
    "The error rate can be estimated by dividing the RSE by the mean outcome variable:"
   ]
  },
  {
   "cell_type": "code",
   "execution_count": 254,
   "metadata": {
    "scrolled": true
   },
   "outputs": [
    {
     "data": {
      "text/html": [
       "0.231830235119092"
      ],
      "text/latex": [
       "0.231830235119092"
      ],
      "text/markdown": [
       "0.231830235119092"
      ],
      "text/plain": [
       "[1] 0.2318302"
      ]
     },
     "metadata": {},
     "output_type": "display_data"
    }
   ],
   "source": [
    "sigma(fit_model)/ mean(testing_data$Murder)"
   ]
  },
  {
   "cell_type": "markdown",
   "metadata": {},
   "source": [
    "This estimates an error rate of 2% with the data we have at hand."
   ]
  },
  {
   "cell_type": "code",
   "execution_count": 354,
   "metadata": {
    "scrolled": true
   },
   "outputs": [
    {
     "data": {
      "text/html": [
       "0.0466702851905959"
      ],
      "text/latex": [
       "0.0466702851905959"
      ],
      "text/markdown": [
       "0.0466702851905959"
      ],
      "text/plain": [
       "[1] 0.04667029"
      ]
     },
     "metadata": {},
     "output_type": "display_data"
    }
   ],
   "source": [
    "sigma(fit_model_sqrt)/ mean(testing_data$Murder)"
   ]
  },
  {
   "cell_type": "code",
   "execution_count": null,
   "metadata": {},
   "outputs": [],
   "source": [
    "This estimates an error rate of 4% with the data we have at hand."
   ]
  },
  {
   "cell_type": "markdown",
   "metadata": {},
   "source": [
    "## Run some output with the final model\n",
    "\n",
    "Inputs to the MLR model\n",
    "\n",
    " - `Murder` = murder and non-negligent manslaughter rate per 100,000 population (1976) - 1.4 to 15.1<br>\n",
    " - `Population` = population estimate as of July 1, 1975 (365 - 21198)<br>\n",
    " - `Illiteracy` = illiteracy (1970, percent of population) (0.5 - 2.8)<br>\n",
    " - `Life_Exp` = life expectancy in years - 67.96 to 73.60<br>\n",
    " - `HS_Grad` = percent high-school graduates 37.80 - 67.30<br>\n"
   ]
  },
  {
   "cell_type": "code",
   "execution_count": 247,
   "metadata": {},
   "outputs": [
    {
     "data": {
      "text/plain": [
       "   Population        Income       Illiteracy      Life_Exp         Murder     \n",
       " Min.   :  365   Min.   :3098   Min.   :0.50   Min.   :67.96   Min.   : 1.40  \n",
       " 1st Qu.: 1058   1st Qu.:3983   1st Qu.:0.60   1st Qu.:70.11   1st Qu.: 4.30  \n",
       " Median : 2861   Median :4508   Median :1.00   Median :70.66   Median : 6.90  \n",
       " Mean   : 4281   Mean   :4427   Mean   :1.18   Mean   :70.85   Mean   : 7.39  \n",
       " 3rd Qu.: 4981   3rd Qu.:4809   3rd Qu.:1.60   3rd Qu.:71.87   3rd Qu.:10.70  \n",
       " Max.   :21198   Max.   :6315   Max.   :2.80   Max.   :73.60   Max.   :15.10  \n",
       "    HS_Grad          Frost           name          \n",
       " Min.   :37.80   Min.   :  0.0   Length:49         \n",
       " 1st Qu.:47.80   1st Qu.: 65.0   Class :character  \n",
       " Median :53.20   Median :114.0   Mode  :character  \n",
       " Mean   :52.89   Mean   :103.2                     \n",
       " 3rd Qu.:59.00   3rd Qu.:139.0                     \n",
       " Max.   :67.30   Max.   :188.0                     "
      ]
     },
     "metadata": {},
     "output_type": "display_data"
    }
   ],
   "source": [
    "summary(states) # we can quickly see ranges in input data"
   ]
  },
  {
   "cell_type": "code",
   "execution_count": 255,
   "metadata": {},
   "outputs": [
    {
     "data": {
      "text/html": [
       "<strong>1:</strong> 4.17183161265239"
      ],
      "text/latex": [
       "\\textbf{1:} 4.17183161265239"
      ],
      "text/markdown": [
       "**1:** 4.17183161265239"
      ],
      "text/plain": [
       "       1 \n",
       "4.171832 "
      ]
     },
     "metadata": {},
     "output_type": "display_data"
    }
   ],
   "source": [
    "df <- data.frame(Population = c(1000), Illiteracy = c(0.5), Life_Exp = c(70), HS_Grad = c(37))\n",
    "predicted_murder <- predict(fit_model, df)\n",
    "predicted_murder"
   ]
  },
  {
   "cell_type": "markdown",
   "metadata": {},
   "source": [
    "Results suggest that for a small population of 1000 with small illiteracy in the population and life expectancy of 70 years and 37% of high school grades, the murder rate per 100,000 population is 4.17%."
   ]
  },
  {
   "cell_type": "code",
   "execution_count": 256,
   "metadata": {},
   "outputs": [
    {
     "data": {
      "text/html": [
       "<strong>1:</strong> 15.0131675890091"
      ],
      "text/latex": [
       "\\textbf{1:} 15.0131675890091"
      ],
      "text/markdown": [
       "**1:** 15.0131675890091"
      ],
      "text/plain": [
       "       1 \n",
       "15.01317 "
      ]
     },
     "metadata": {},
     "output_type": "display_data"
    }
   ],
   "source": [
    "df <- data.frame(Population = c(20000), Illiteracy = c(2.5), Life_Exp = c(70), HS_Grad = c(37))\n",
    "predicted_murder <- predict(fit_model, df)\n",
    "predicted_murder"
   ]
  },
  {
   "cell_type": "markdown",
   "metadata": {},
   "source": [
    "With higher population and higher levels of illiteracy, same life expectancy and same percent high school grades, the murder rate increases to 15.01%."
   ]
  },
  {
   "cell_type": "code",
   "execution_count": 257,
   "metadata": {},
   "outputs": [
    {
     "data": {
      "text/html": [
       "<strong>1:</strong> 20.1819255260207"
      ],
      "text/latex": [
       "\\textbf{1:} 20.1819255260207"
      ],
      "text/markdown": [
       "**1:** 20.1819255260207"
      ],
      "text/plain": [
       "       1 \n",
       "20.18193 "
      ]
     },
     "metadata": {},
     "output_type": "display_data"
    }
   ],
   "source": [
    "df <- data.frame(Population = c(20000), Illiteracy = c(2.5), Life_Exp = c(67), HS_Grad = c(37))\n",
    "predicted_murder <- predict(fit_model, df)\n",
    "predicted_murder"
   ]
  },
  {
   "cell_type": "markdown",
   "metadata": {},
   "source": [
    "With lower life expectancy, the murder rate per 100,000 population is 20.18%."
   ]
  },
  {
   "cell_type": "code",
   "execution_count": 258,
   "metadata": {
    "scrolled": true
   },
   "outputs": [
    {
     "data": {
      "text/html": [
       "<strong>1:</strong> 6.42411642179786"
      ],
      "text/latex": [
       "\\textbf{1:} 6.42411642179786"
      ],
      "text/markdown": [
       "**1:** 6.42411642179786"
      ],
      "text/plain": [
       "       1 \n",
       "6.424116 "
      ]
     },
     "metadata": {},
     "output_type": "display_data"
    }
   ],
   "source": [
    "df <- data.frame(Population = c(10000), Illiteracy = c(0.5), Life_Exp = c(70), HS_Grad = c(37))\n",
    "predicted_murder <- predict(fit_model, df)\n",
    "predicted_murder"
   ]
  },
  {
   "cell_type": "markdown",
   "metadata": {},
   "source": [
    "With all other measurements being equal, the murder rate is 6.42% per 100,000 population when the population is reduced to 10000 from 20000.\n",
    "\n",
    "Lets test the model by inputting some real data from the dataset. In this example, I'm inputting the data for Illinois whose murder rate is 10.3%."
   ]
  },
  {
   "cell_type": "code",
   "execution_count": 252,
   "metadata": {},
   "outputs": [
    {
     "data": {
      "text/html": [
       "<strong>1:</strong> 9.36241934961575"
      ],
      "text/latex": [
       "\\textbf{1:} 9.36241934961575"
      ],
      "text/markdown": [
       "**1:** 9.36241934961575"
      ],
      "text/plain": [
       "       1 \n",
       "9.362419 "
      ]
     },
     "metadata": {},
     "output_type": "display_data"
    }
   ],
   "source": [
    "df <- data.frame(Population = c(11197), Illiteracy = c(0.9), Life_Exp = c(70.14), HS_Grad = c(52.6))\n",
    "predicted_murder <- predict(fit_model, df)\n",
    "predicted_murder"
   ]
  },
  {
   "cell_type": "code",
   "execution_count": 357,
   "metadata": {},
   "outputs": [
    {
     "data": {
      "text/html": [
       "<strong>1:</strong> 9.013827736455"
      ],
      "text/latex": [
       "\\textbf{1:} 9.013827736455"
      ],
      "text/markdown": [
       "**1:** 9.013827736455"
      ],
      "text/plain": [
       "       1 \n",
       "9.013828 "
      ]
     },
     "metadata": {},
     "output_type": "display_data"
    }
   ],
   "source": [
    "df <- data.frame(Population = c(11197), Illiteracy = c(0.9), Life_Exp = c(70.14), HS_Grad = c(52.6))\n",
    "predicted_murder <- predict(fit_model_sqrt, df)\n",
    "predicted_murder^2"
   ]
  },
  {
   "cell_type": "markdown",
   "metadata": {},
   "source": [
    "And similarly for a state with small population - Montana with murder of 5%."
   ]
  },
  {
   "cell_type": "code",
   "execution_count": 259,
   "metadata": {
    "scrolled": false
   },
   "outputs": [
    {
     "data": {
      "text/html": [
       "<strong>1:</strong> 5.81384426266087"
      ],
      "text/latex": [
       "\\textbf{1:} 5.81384426266087"
      ],
      "text/markdown": [
       "**1:** 5.81384426266087"
      ],
      "text/plain": [
       "       1 \n",
       "5.813844 "
      ]
     },
     "metadata": {},
     "output_type": "display_data"
    }
   ],
   "source": [
    "df <- data.frame(Population = c(746), Illiteracy = c(0.6), Life_Exp = c(70.56), HS_Grad = c(59.2))\n",
    "predicted_murder <- predict(fit_model, df)\n",
    "predicted_murder"
   ]
  },
  {
   "cell_type": "markdown",
   "metadata": {},
   "source": [
    "What is shown by the sqrt of Murder?"
   ]
  },
  {
   "cell_type": "code",
   "execution_count": 356,
   "metadata": {},
   "outputs": [
    {
     "data": {
      "text/html": [
       "<strong>1:</strong> 5.40832834369471"
      ],
      "text/latex": [
       "\\textbf{1:} 5.40832834369471"
      ],
      "text/markdown": [
       "**1:** 5.40832834369471"
      ],
      "text/plain": [
       "       1 \n",
       "5.408328 "
      ]
     },
     "metadata": {},
     "output_type": "display_data"
    }
   ],
   "source": [
    "df <- data.frame(Population = c(746), Illiteracy = c(0.6), Life_Exp = c(70.56), HS_Grad = c(59.2))\n",
    "predicted_murder <- predict(fit_model_sqrt, df)\n",
    "predicted_murder ^2"
   ]
  }
 ],
 "metadata": {
  "kernelspec": {
   "display_name": "R",
   "language": "R",
   "name": "ir"
  },
  "language_info": {
   "codemirror_mode": "r",
   "file_extension": ".r",
   "mimetype": "text/x-r-source",
   "name": "R",
   "pygments_lexer": "r",
   "version": "3.6.1"
  }
 },
 "nbformat": 4,
 "nbformat_minor": 4
}
