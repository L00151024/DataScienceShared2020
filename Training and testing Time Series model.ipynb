{
 "cells": [
  {
   "cell_type": "markdown",
   "metadata": {},
   "source": [
    "## Forecasting on training and test sets\n",
    "\n",
    "Just as with any model, we need to evaluate the ARIMA model for accuracy. We can use the training/testing split of our data.\n",
    "\n",
    "Typically, we compute one-step forecasts on the training data, otherwise referred to as the **fitted values**, and **multi-step forecasts** on the test data. \n",
    "\n",
    "Generally, time series forecasting describes predicting the observation at the next time step.\n",
    "This is called a one-step forecast, as only one time step is to be predicted.\n",
    "\n",
    "There are some time series problems where multiple time steps must be predicted. Contrasted to the one-step forecast, these are called multiple-step or multi-step time series forecasting problems. For example, consider \n",
    "\n",
    "| Time | Temperature |\n",
    "-------|-------------|\n",
    "| 1 | 55|\n",
    "|2 | 50|\n",
    "|3 | 55|\n",
    "|4 | 45 |\n",
    "|5 | 55|\n",
    "|6 | 50 |\n",
    "|7 | 55 |\n",
    "\n",
    "A single-step forecast would require a forecast at time step 8 only.\n",
    "\n",
    "A multi-step may require a forecast for the next two days, as follows:\n",
    "\n",
    "| Time | Temperature |\n",
    "-------|-------------|\n",
    "| 8 | ?|\n",
    "| 9| ?|\n",
    "|10 | ?|\n",
    "\n",
    "\n",
    "## Direct Multi-step Forecast Strategy\n",
    "\n",
    "The direct method involves developing a separate model for each forecast time step.\n",
    "\n",
    "In the case of predicting the temperature for the next two days, we would develop a model for predicting the temperature on day 1 and a separate model for predicting the temperature on day 2.\n",
    "\n",
    "Having one model for each time step is an added computational and maintenance burden, especially as the number of time steps to be forecasted increases beyond the trivial.\n",
    "\n",
    "Because separate models are used, it means that there is no opportunity to model the dependencies between the predictions, such as the prediction on day 2 being dependent on the prediction in day 1, as is often the case in time series.\n",
    "\n",
    "\n",
    "## Recursive Multi-step Forecast\n",
    "\n",
    "The recursive strategy involves using a one-step model multiple times where the prediction for the prior time step is used as an input for making a prediction on the following time step.\n",
    "\n",
    "In the case of predicting the temperature for the next two days, we would develop a one-step forecasting model. This model would then be used to predict day 1, then this prediction would be used as an observation input in order to predict day 2.\n",
    "\n",
    "Occasionally we may wish to compute multi-step forecasts on the training data, or one-step forecasts on the test data."
   ]
  },
  {
   "cell_type": "markdown",
   "metadata": {},
   "source": [
    "## Multi-step forecasts on training data\n",
    "\n",
    "We normally define fitted values to be one-step forecasts on the training set, but a similar idea can be used for multi-step forecasts. I will illustrate the method using an ARIMA model for the `AirPassegners` time series dataset. \n",
    "\n",
    "I'm setting the last 3 years of travel data for a test set. Refer to the Blackboard notes for further details on how the model forecast is displayed."
   ]
  },
  {
   "cell_type": "code",
   "execution_count": 2,
   "metadata": {},
   "outputs": [],
   "source": [
    "air_passengers_ts <- AirPassengers"
   ]
  },
  {
   "cell_type": "code",
   "execution_count": 3,
   "metadata": {},
   "outputs": [
    {
     "data": {
      "text/html": [
       "<table>\n",
       "<caption>A Time Series: 12 × 12</caption>\n",
       "<thead>\n",
       "\t<tr><th></th><th scope=col>Jan</th><th scope=col>Feb</th><th scope=col>Mar</th><th scope=col>Apr</th><th scope=col>May</th><th scope=col>Jun</th><th scope=col>Jul</th><th scope=col>Aug</th><th scope=col>Sep</th><th scope=col>Oct</th><th scope=col>Nov</th><th scope=col>Dec</th></tr>\n",
       "</thead>\n",
       "<tbody>\n",
       "\t<tr><th scope=row>1949</th><td> 1</td><td> 2</td><td> 3</td><td> 4</td><td> 5</td><td> 6</td><td> 7</td><td> 8</td><td> 9</td><td>10</td><td>11</td><td>12</td></tr>\n",
       "\t<tr><th scope=row>1950</th><td> 1</td><td> 2</td><td> 3</td><td> 4</td><td> 5</td><td> 6</td><td> 7</td><td> 8</td><td> 9</td><td>10</td><td>11</td><td>12</td></tr>\n",
       "\t<tr><th scope=row>1951</th><td> 1</td><td> 2</td><td> 3</td><td> 4</td><td> 5</td><td> 6</td><td> 7</td><td> 8</td><td> 9</td><td>10</td><td>11</td><td>12</td></tr>\n",
       "\t<tr><th scope=row>1952</th><td> 1</td><td> 2</td><td> 3</td><td> 4</td><td> 5</td><td> 6</td><td> 7</td><td> 8</td><td> 9</td><td>10</td><td>11</td><td>12</td></tr>\n",
       "\t<tr><th scope=row>1953</th><td> 1</td><td> 2</td><td> 3</td><td> 4</td><td> 5</td><td> 6</td><td> 7</td><td> 8</td><td> 9</td><td>10</td><td>11</td><td>12</td></tr>\n",
       "\t<tr><th scope=row>1954</th><td> 1</td><td> 2</td><td> 3</td><td> 4</td><td> 5</td><td> 6</td><td> 7</td><td> 8</td><td> 9</td><td>10</td><td>11</td><td>12</td></tr>\n",
       "\t<tr><th scope=row>1955</th><td> 1</td><td> 2</td><td> 3</td><td> 4</td><td> 5</td><td> 6</td><td> 7</td><td> 8</td><td> 9</td><td>10</td><td>11</td><td>12</td></tr>\n",
       "\t<tr><th scope=row>1956</th><td> 1</td><td> 2</td><td> 3</td><td> 4</td><td> 5</td><td> 6</td><td> 7</td><td> 8</td><td> 9</td><td>10</td><td>11</td><td>12</td></tr>\n",
       "\t<tr><th scope=row>1957</th><td> 1</td><td> 2</td><td> 3</td><td> 4</td><td> 5</td><td> 6</td><td> 7</td><td> 8</td><td> 9</td><td>10</td><td>11</td><td>12</td></tr>\n",
       "\t<tr><th scope=row>1958</th><td> 1</td><td> 2</td><td> 3</td><td> 4</td><td> 5</td><td> 6</td><td> 7</td><td> 8</td><td> 9</td><td>10</td><td>11</td><td>12</td></tr>\n",
       "\t<tr><th scope=row>1959</th><td> 1</td><td> 2</td><td> 3</td><td> 4</td><td> 5</td><td> 6</td><td> 7</td><td> 8</td><td> 9</td><td>10</td><td>11</td><td>12</td></tr>\n",
       "\t<tr><th scope=row>1960</th><td> 1</td><td> 2</td><td> 3</td><td> 4</td><td> 5</td><td> 6</td><td> 7</td><td> 8</td><td> 9</td><td>10</td><td>11</td><td>12</td></tr>\n",
       "</tbody>\n",
       "</table>\n"
      ],
      "text/latex": [
       "A Time Series: 12 × 12\n",
       "\\begin{tabular}{r|llllllllllll}\n",
       "  & Jan & Feb & Mar & Apr & May & Jun & Jul & Aug & Sep & Oct & Nov & Dec\\\\\n",
       "\\hline\n",
       "\t1949 &  1 &  2 &  3 &  4 &  5 &  6 &  7 &  8 &  9 & 10 & 11 & 12\\\\\n",
       "\t1950 &  1 &  2 &  3 &  4 &  5 &  6 &  7 &  8 &  9 & 10 & 11 & 12\\\\\n",
       "\t1951 &  1 &  2 &  3 &  4 &  5 &  6 &  7 &  8 &  9 & 10 & 11 & 12\\\\\n",
       "\t1952 &  1 &  2 &  3 &  4 &  5 &  6 &  7 &  8 &  9 & 10 & 11 & 12\\\\\n",
       "\t1953 &  1 &  2 &  3 &  4 &  5 &  6 &  7 &  8 &  9 & 10 & 11 & 12\\\\\n",
       "\t1954 &  1 &  2 &  3 &  4 &  5 &  6 &  7 &  8 &  9 & 10 & 11 & 12\\\\\n",
       "\t1955 &  1 &  2 &  3 &  4 &  5 &  6 &  7 &  8 &  9 & 10 & 11 & 12\\\\\n",
       "\t1956 &  1 &  2 &  3 &  4 &  5 &  6 &  7 &  8 &  9 & 10 & 11 & 12\\\\\n",
       "\t1957 &  1 &  2 &  3 &  4 &  5 &  6 &  7 &  8 &  9 & 10 & 11 & 12\\\\\n",
       "\t1958 &  1 &  2 &  3 &  4 &  5 &  6 &  7 &  8 &  9 & 10 & 11 & 12\\\\\n",
       "\t1959 &  1 &  2 &  3 &  4 &  5 &  6 &  7 &  8 &  9 & 10 & 11 & 12\\\\\n",
       "\t1960 &  1 &  2 &  3 &  4 &  5 &  6 &  7 &  8 &  9 & 10 & 11 & 12\\\\\n",
       "\\end{tabular}\n"
      ],
      "text/markdown": [
       "\n",
       "A Time Series: 12 × 12\n",
       "\n",
       "| <!--/--> | Jan | Feb | Mar | Apr | May | Jun | Jul | Aug | Sep | Oct | Nov | Dec |\n",
       "|---|---|---|---|---|---|---|---|---|---|---|---|---|\n",
       "| 1949 |  1 |  2 |  3 |  4 |  5 |  6 |  7 |  8 |  9 | 10 | 11 | 12 |\n",
       "| 1950 |  1 |  2 |  3 |  4 |  5 |  6 |  7 |  8 |  9 | 10 | 11 | 12 |\n",
       "| 1951 |  1 |  2 |  3 |  4 |  5 |  6 |  7 |  8 |  9 | 10 | 11 | 12 |\n",
       "| 1952 |  1 |  2 |  3 |  4 |  5 |  6 |  7 |  8 |  9 | 10 | 11 | 12 |\n",
       "| 1953 |  1 |  2 |  3 |  4 |  5 |  6 |  7 |  8 |  9 | 10 | 11 | 12 |\n",
       "| 1954 |  1 |  2 |  3 |  4 |  5 |  6 |  7 |  8 |  9 | 10 | 11 | 12 |\n",
       "| 1955 |  1 |  2 |  3 |  4 |  5 |  6 |  7 |  8 |  9 | 10 | 11 | 12 |\n",
       "| 1956 |  1 |  2 |  3 |  4 |  5 |  6 |  7 |  8 |  9 | 10 | 11 | 12 |\n",
       "| 1957 |  1 |  2 |  3 |  4 |  5 |  6 |  7 |  8 |  9 | 10 | 11 | 12 |\n",
       "| 1958 |  1 |  2 |  3 |  4 |  5 |  6 |  7 |  8 |  9 | 10 | 11 | 12 |\n",
       "| 1959 |  1 |  2 |  3 |  4 |  5 |  6 |  7 |  8 |  9 | 10 | 11 | 12 |\n",
       "| 1960 |  1 |  2 |  3 |  4 |  5 |  6 |  7 |  8 |  9 | 10 | 11 | 12 |\n",
       "\n"
      ],
      "text/plain": [
       "     Jan Feb Mar Apr May Jun Jul Aug Sep Oct Nov Dec\n",
       "1949  1   2   3   4   5   6   7   8   9  10  11  12 \n",
       "1950  1   2   3   4   5   6   7   8   9  10  11  12 \n",
       "1951  1   2   3   4   5   6   7   8   9  10  11  12 \n",
       "1952  1   2   3   4   5   6   7   8   9  10  11  12 \n",
       "1953  1   2   3   4   5   6   7   8   9  10  11  12 \n",
       "1954  1   2   3   4   5   6   7   8   9  10  11  12 \n",
       "1955  1   2   3   4   5   6   7   8   9  10  11  12 \n",
       "1956  1   2   3   4   5   6   7   8   9  10  11  12 \n",
       "1957  1   2   3   4   5   6   7   8   9  10  11  12 \n",
       "1958  1   2   3   4   5   6   7   8   9  10  11  12 \n",
       "1959  1   2   3   4   5   6   7   8   9  10  11  12 \n",
       "1960  1   2   3   4   5   6   7   8   9  10  11  12 "
      ]
     },
     "metadata": {},
     "output_type": "display_data"
    }
   ],
   "source": [
    "cycle(air_passengers_ts)"
   ]
  },
  {
   "cell_type": "code",
   "execution_count": 4,
   "metadata": {},
   "outputs": [
    {
     "name": "stderr",
     "output_type": "stream",
     "text": [
      "Warning message:\n",
      "\"package 'TSstudio' was built under R version 3.6.3\"\n"
     ]
    }
   ],
   "source": [
    "## Split the air_passegners dataset into training and testing partitions\n",
    "## Set the last 36 months as a testing partition \n",
    "## and the rest as a training partition\n",
    "\n",
    "# Install TSstudio to access train/test options\n",
    "#install.packages(\"TSstudio\")\n",
    "library(TSstudio)\n",
    "\n",
    "split_air_passengers <- ts_split(ts.obj = air_passengers_ts, sample.out = 36)\n",
    "\n",
    "training <- split_air_passengers$train\n",
    "testing <- split_air_passengers$test"
   ]
  },
  {
   "cell_type": "code",
   "execution_count": 5,
   "metadata": {
    "scrolled": true
   },
   "outputs": [
    {
     "data": {
      "text/html": [
       "'length of air passengers time series: 144'"
      ],
      "text/latex": [
       "'length of air passengers time series: 144'"
      ],
      "text/markdown": [
       "'length of air passengers time series: 144'"
      ],
      "text/plain": [
       "[1] \"length of air passengers time series: 144\""
      ]
     },
     "metadata": {},
     "output_type": "display_data"
    },
    {
     "data": {
      "text/html": [
       "'length of training data: 108'"
      ],
      "text/latex": [
       "'length of training data: 108'"
      ],
      "text/markdown": [
       "'length of training data: 108'"
      ],
      "text/plain": [
       "[1] \"length of training data: 108\""
      ]
     },
     "metadata": {},
     "output_type": "display_data"
    },
    {
     "data": {
      "text/html": [
       "'length of testing data: 36'"
      ],
      "text/latex": [
       "'length of testing data: 36'"
      ],
      "text/markdown": [
       "'length of testing data: 36'"
      ],
      "text/plain": [
       "[1] \"length of testing data: 36\""
      ]
     },
     "metadata": {},
     "output_type": "display_data"
    }
   ],
   "source": [
    "paste(\"length of air passengers time series:\" , length(air_passengers_ts))\n",
    "\n",
    "paste(\"length of training data:\" , length(split_air_passengers$train))\n",
    "\n",
    "paste(\"length of testing data:\" , length(split_air_passengers$test))\n"
   ]
  },
  {
   "cell_type": "code",
   "execution_count": 6,
   "metadata": {},
   "outputs": [
    {
     "name": "stderr",
     "output_type": "stream",
     "text": [
      "Warning message:\n",
      "\"package 'forecast' was built under R version 3.6.3\"\n",
      "Registered S3 method overwritten by 'quantmod':\n",
      "  method            from\n",
      "  as.zoo.data.frame zoo \n",
      "\n"
     ]
    }
   ],
   "source": [
    "library(forecast)"
   ]
  },
  {
   "cell_type": "code",
   "execution_count": 24,
   "metadata": {
    "scrolled": true
   },
   "outputs": [
    {
     "data": {
      "text/plain": [
       "Series: training \n",
       "ARIMA(1,1,0)(0,1,0)[12] \n",
       "\n",
       "Coefficients:\n",
       "          ar1\n",
       "      -0.2411\n",
       "s.e.   0.0992\n",
       "\n",
       "sigma^2 estimated as 93.74:  log likelihood=-350\n",
       "AIC=704   AICc=704.13   BIC=709.11"
      ]
     },
     "metadata": {},
     "output_type": "display_data"
    }
   ],
   "source": [
    "air_passengers_model <- auto.arima(training)\n",
    "air_passengers_model"
   ]
  },
  {
   "cell_type": "markdown",
   "metadata": {},
   "source": [
    "## One-step forecasts on test data\n",
    "\n",
    "It is common practice to fit a model using training data, and then to evaluate its performance on a test data set. The way this is usually done means the comparisons on the test data use different forecast horizons. In the above example, we have used the last 36 observations for the test data, and estimated our forecasting model on the training data. Then the forecast errors will be for 1-step, 2-steps, …, 36-steps ahead. The forecast variance usually increases with the forecast horizon, so if we are simply averaging the absolute or squared errors from the test set, we are combining results with different variances.\n",
    "\n",
    "One solution to this issue is to obtain 1-step errors on the test data. That is, we still use the training data to estimate any parameters, but when we compute forecasts on the test data, we use all of the data preceding each observation (both training and test data). So our training data are for times 1,2,…,T−36. \n",
    "\n",
    "Since the test data are not used to estimate the parameters, this still gives us a reasonable forecast. For the `ets()`, `Arima()` functions, these calculations are easily carried out using the `model` argument.\n",
    "\n",
    "Using the same ARIMA model used above, we now apply the model to the test data."
   ]
  },
  {
   "cell_type": "code",
   "execution_count": 8,
   "metadata": {},
   "outputs": [
    {
     "data": {
      "text/html": [
       "<table>\n",
       "<caption>A matrix: 1 × 7 of type dbl</caption>\n",
       "<thead>\n",
       "\t<tr><th></th><th scope=col>ME</th><th scope=col>RMSE</th><th scope=col>MAE</th><th scope=col>MPE</th><th scope=col>MAPE</th><th scope=col>MASE</th><th scope=col>ACF1</th></tr>\n",
       "</thead>\n",
       "<tbody>\n",
       "\t<tr><th scope=row>Training set</th><td>0.2257469</td><td>13.61722</td><td>8.521995</td><td>0.02533282</td><td>1.897544</td><td>0.1790962</td><td>-0.2287296</td></tr>\n",
       "</tbody>\n",
       "</table>\n"
      ],
      "text/latex": [
       "A matrix: 1 × 7 of type dbl\n",
       "\\begin{tabular}{r|lllllll}\n",
       "  & ME & RMSE & MAE & MPE & MAPE & MASE & ACF1\\\\\n",
       "\\hline\n",
       "\tTraining set & 0.2257469 & 13.61722 & 8.521995 & 0.02533282 & 1.897544 & 0.1790962 & -0.2287296\\\\\n",
       "\\end{tabular}\n"
      ],
      "text/markdown": [
       "\n",
       "A matrix: 1 × 7 of type dbl\n",
       "\n",
       "| <!--/--> | ME | RMSE | MAE | MPE | MAPE | MASE | ACF1 |\n",
       "|---|---|---|---|---|---|---|---|\n",
       "| Training set | 0.2257469 | 13.61722 | 8.521995 | 0.02533282 | 1.897544 | 0.1790962 | -0.2287296 |\n",
       "\n"
      ],
      "text/plain": [
       "             ME        RMSE     MAE      MPE        MAPE     MASE     \n",
       "Training set 0.2257469 13.61722 8.521995 0.02533282 1.897544 0.1790962\n",
       "             ACF1      \n",
       "Training set -0.2287296"
      ]
     },
     "metadata": {},
     "output_type": "display_data"
    }
   ],
   "source": [
    "air_passengers_test <- Arima(testing, model=air_passengers_model)\n",
    "accuracy(air_passengers_test)"
   ]
  },
  {
   "cell_type": "markdown",
   "metadata": {},
   "source": [
    "Note that `Arima()` does not re-estimate a new model. Instead, the model obtained previously (and stored as air_passengers_model) is applied to the test data. Because the model was not re-estimated, the **residuals** obtained here are actually one-step forecast errors. \n",
    "\n",
    "Consequently, the results produced from the `accuracy()` command are actually on the test set (despite the output saying “Training set”)."
   ]
  },
  {
   "cell_type": "markdown",
   "metadata": {},
   "source": [
    "The mean absolute percentage error (MAPE) is a measure of prediction accuracy of a forecasting method. It usually expresses accuracy as a percentage.\n",
    "\n",
    "Here the mean absolute percent error is 1.89% of the air pasengers. This is the forecast accuracy of the error.\n",
    "\n"
   ]
  },
  {
   "cell_type": "markdown",
   "metadata": {},
   "source": [
    "Now I'll repeat this for the manual ARIMA model and then compare both models."
   ]
  },
  {
   "cell_type": "code",
   "execution_count": 10,
   "metadata": {},
   "outputs": [
    {
     "data": {
      "text/plain": [
       "\n",
       "Call:\n",
       "arima(x = training, order = c(1, 1, 1), seasonal = list(order = c(1, 1, 1), \n",
       "    period = 12))\n",
       "\n",
       "Coefficients:\n",
       "          ar1     ma1    sar1    sma1\n",
       "      -0.5904  0.3846  -0.382  0.2487\n",
       "s.e.   0.2690  0.3049   0.513  0.5373\n",
       "\n",
       "sigma^2 estimated as 89.76:  log likelihood = -348.58,  aic = 707.16"
      ]
     },
     "metadata": {},
     "output_type": "display_data"
    }
   ],
   "source": [
    "air_passengers_manual_ARIMA <- arima(training, \n",
    "             c(1,1,1), \n",
    "             seasonal = list(order = c(1,1,1), \n",
    "                             period = 12))\n",
    "air_passengers_manual_ARIMA"
   ]
  },
  {
   "cell_type": "code",
   "execution_count": 11,
   "metadata": {
    "scrolled": true
   },
   "outputs": [
    {
     "data": {
      "text/html": [
       "<table>\n",
       "<caption>A matrix: 1 × 7 of type dbl</caption>\n",
       "<thead>\n",
       "\t<tr><th></th><th scope=col>ME</th><th scope=col>RMSE</th><th scope=col>MAE</th><th scope=col>MPE</th><th scope=col>MAPE</th><th scope=col>MASE</th><th scope=col>ACF1</th></tr>\n",
       "</thead>\n",
       "<tbody>\n",
       "\t<tr><th scope=row>Training set</th><td>0.3571333</td><td>13.66642</td><td>8.310277</td><td>0.05410261</td><td>1.841466</td><td>0.1746468</td><td>-0.2559398</td></tr>\n",
       "</tbody>\n",
       "</table>\n"
      ],
      "text/latex": [
       "A matrix: 1 × 7 of type dbl\n",
       "\\begin{tabular}{r|lllllll}\n",
       "  & ME & RMSE & MAE & MPE & MAPE & MASE & ACF1\\\\\n",
       "\\hline\n",
       "\tTraining set & 0.3571333 & 13.66642 & 8.310277 & 0.05410261 & 1.841466 & 0.1746468 & -0.2559398\\\\\n",
       "\\end{tabular}\n"
      ],
      "text/markdown": [
       "\n",
       "A matrix: 1 × 7 of type dbl\n",
       "\n",
       "| <!--/--> | ME | RMSE | MAE | MPE | MAPE | MASE | ACF1 |\n",
       "|---|---|---|---|---|---|---|---|\n",
       "| Training set | 0.3571333 | 13.66642 | 8.310277 | 0.05410261 | 1.841466 | 0.1746468 | -0.2559398 |\n",
       "\n"
      ],
      "text/plain": [
       "             ME        RMSE     MAE      MPE        MAPE     MASE     \n",
       "Training set 0.3571333 13.66642 8.310277 0.05410261 1.841466 0.1746468\n",
       "             ACF1      \n",
       "Training set -0.2559398"
      ]
     },
     "metadata": {},
     "output_type": "display_data"
    }
   ],
   "source": [
    "air_passengers_manual_test <- Arima(testing, model=air_passengers_manual_ARIMA)\n",
    "accuracy(air_passengers_manual_test)"
   ]
  },
  {
   "cell_type": "markdown",
   "metadata": {},
   "source": [
    "## Summary of comparison between both models\n",
    "\n",
    "The AIC of the auto ARIMA model is 707.16. The AIC of the manual model is 704. This suggests the manual model is slightly better than the auto-generated model.\n",
    "\n",
    "Lets examine move outputs from both models."
   ]
  },
  {
   "cell_type": "markdown",
   "metadata": {},
   "source": [
    "## Forecast errors\n",
    "\n",
    "A forecast **error** is the difference between an observed value and its forecast. Here **error** does not mean a mistake, it means the unpredictable part of an observation.\n",
    "\n",
    "Note that forecast errors are different from residuals in two ways. First, residuals are calculated on the training set while forecast errors are calculated on the test set. Secondly, residuals are based on one-step forecasts while forecast errors can involve multi-step forecasts.\n",
    "\n",
    "We can measure forecast accuracy by summarising the forecast errors in different ways.\n",
    "\n",
    "## Scale-dependent errors\n",
    "\n",
    "The two most commonly used scale-dependent measures are based on the absolute errors or squared errors: Mean absolute error: MAE=mean(|et|),Root mean squared error: RMSE=√mean(e2t).\n",
    "\n",
    "When comparing forecast methods applied to a single time series, or to several time series with the same units, the MAE is popular as it is easy to both understand and compute. A forecast method that minimises the MAE will lead to forecasts of the median, while minimising the RMSE will lead to forecasts of the mean. Consequently, the RMSE is also widely used, despite being more difficult to interpret.\n",
    "\n"
   ]
  },
  {
   "cell_type": "markdown",
   "metadata": {},
   "source": [
    "The `accuracy()` function in the `forecast` library returns a range of summary measures of the forecast accuracy. If `x` is provided, the function measures test set forecast accuracy based on x-f. If x is not provided, the function only produces training set accuracy measures of the forecasts based on f[\"x\"]-fitted(f). \n",
    "\n",
    "All measures are defined and discussed in Hyndman and Koehler (2006).\n",
    "\n",
    "The measures calculated are:\n",
    " - ME: Mean Error\n",
    " - RMSE: Root Mean Squared Error\n",
    " - MAE: Mean Absolute Error\n",
    " - MPE: Mean Percentage Error\n",
    " - MAPE: Mean Absolute Percentage Error\n",
    " - MASE: Mean Absolute Scaled Error\n",
    " - ACF1: Autocorrelation of errors at lag 1.\n"
   ]
  },
  {
   "cell_type": "markdown",
   "metadata": {},
   "source": [
    "The AIC of the auto ARIMA model is 707.16. The AIC of the manual model is 704. This suggests the manual model is slightly better than the auto-generated model.\n",
    "\n",
    "\n",
    "### Mean absolute percentage error (MAPE)\n",
    "\n",
    "MAPE expresses accuracy as a percentage of the error. Because this number is a percentage, it can be easier to understand than the other statistics. For example, if the MAPE is 5, on average, the forecast is off by 5%.\n",
    "\n",
    "The MAPE of the auto ARIMA model is 1.897544, and the MAPE of the manual ARIMA is 1.841466 showing the manual model is better than the auto-generated one.\n",
    "\n",
    "### Mean Absolute Error (MAE)\n",
    "Mean Absolute Error measures the average magnitude of the errors in a set of predictions, without considering their direction. It’s the average over the test sample of the absolute differences between prediction and actual observation where all individual differences have equal weight.\n",
    "\n",
    "The MAE of the auto ARIMA model is 8.52, and the MAE of the manual ARIMA is 8.31 showing the auto model is better than the manual one.\n",
    "\n",
    "### Root Mean Squared Error (RMSE)\n",
    "The RMSE should be more useful when large errors are particularly undesirable. RMSE does not necessarily increase with the variance of the errors. RMSE increases with the variance of the frequency distribution of error magnitudes.\n",
    "\n",
    "The RMSE of the auto ARIMA model is 13.61, and the RMSE of the manual ARIMA is 13.66 showing the auto-ARIMA model is slightly better than the manually generated one, athough the differences are minimal.\n",
    "\n",
    "RMSE has the benefit of penalizing large errors more so can be more appropriate in some cases, for example, if being off by 10 is more than twice as bad as being off by 5. But if being off by 10 is just twice as bad as being off by 5, then MAE is more appropriate.\n",
    "\n",
    "From an interpretation standpoint, MAE is better than RMSE because RMSE does not describe average error alone and has other implications that are more difficult to tease out and understand.\n",
    "\n",
    "On the other hand, one distinct advantage of RMSE over MAE is that RMSE avoids the use of taking the absolute value, which is undesirable in many mathematical calculations."
   ]
  },
  {
   "cell_type": "code",
   "execution_count": 34,
   "metadata": {},
   "outputs": [
    {
     "data": {
      "text/html": [
       "<table>\n",
       "<caption>A Time Series: 3 × 12</caption>\n",
       "<thead>\n",
       "\t<tr><th></th><th scope=col>Jan</th><th scope=col>Feb</th><th scope=col>Mar</th><th scope=col>Apr</th><th scope=col>May</th><th scope=col>Jun</th><th scope=col>Jul</th><th scope=col>Aug</th><th scope=col>Sep</th><th scope=col>Oct</th><th scope=col>Nov</th><th scope=col>Dec</th></tr>\n",
       "</thead>\n",
       "<tbody>\n",
       "\t<tr><th scope=row>1958</th><td>344.9231</td><td>331.4629</td><td>384.9889</td><td>377.0908</td><td>384.1126</td><td>449.8897</td><td>491.9903</td><td>492.9745</td><td>431.2286</td><td>374.9870</td><td>334.0962</td><td>365.3162</td></tr>\n",
       "\t<tr><th scope=row>1959</th><td>374.4275</td><td>360.6673</td><td>414.8117</td><td>406.8421</td><td>413.8748</td><td>480.1077</td><td>522.5586</td><td>523.9269</td><td>461.7042</td><td>405.1715</td><td>363.8578</td><td>394.9933</td></tr>\n",
       "\t<tr><th scope=row>1960</th><td>404.0330</td><td>390.3872</td><td>444.2955</td><td>436.3532</td><td>443.3817</td><td>509.4405</td><td>551.7576</td><td>552.9791</td><td>490.9386</td><td>434.5171</td><td>393.3650</td><td>424.5327</td></tr>\n",
       "</tbody>\n",
       "</table>\n"
      ],
      "text/latex": [
       "A Time Series: 3 × 12\n",
       "\\begin{tabular}{r|llllllllllll}\n",
       "  & Jan & Feb & Mar & Apr & May & Jun & Jul & Aug & Sep & Oct & Nov & Dec\\\\\n",
       "\\hline\n",
       "\t1958 & 344.9231 & 331.4629 & 384.9889 & 377.0908 & 384.1126 & 449.8897 & 491.9903 & 492.9745 & 431.2286 & 374.9870 & 334.0962 & 365.3162\\\\\n",
       "\t1959 & 374.4275 & 360.6673 & 414.8117 & 406.8421 & 413.8748 & 480.1077 & 522.5586 & 523.9269 & 461.7042 & 405.1715 & 363.8578 & 394.9933\\\\\n",
       "\t1960 & 404.0330 & 390.3872 & 444.2955 & 436.3532 & 443.3817 & 509.4405 & 551.7576 & 552.9791 & 490.9386 & 434.5171 & 393.3650 & 424.5327\\\\\n",
       "\\end{tabular}\n"
      ],
      "text/markdown": [
       "\n",
       "A Time Series: 3 × 12\n",
       "\n",
       "| <!--/--> | Jan | Feb | Mar | Apr | May | Jun | Jul | Aug | Sep | Oct | Nov | Dec |\n",
       "|---|---|---|---|---|---|---|---|---|---|---|---|---|\n",
       "| 1958 | 344.9231 | 331.4629 | 384.9889 | 377.0908 | 384.1126 | 449.8897 | 491.9903 | 492.9745 | 431.2286 | 374.9870 | 334.0962 | 365.3162 |\n",
       "| 1959 | 374.4275 | 360.6673 | 414.8117 | 406.8421 | 413.8748 | 480.1077 | 522.5586 | 523.9269 | 461.7042 | 405.1715 | 363.8578 | 394.9933 |\n",
       "| 1960 | 404.0330 | 390.3872 | 444.2955 | 436.3532 | 443.3817 | 509.4405 | 551.7576 | 552.9791 | 490.9386 | 434.5171 | 393.3650 | 424.5327 |\n",
       "\n"
      ],
      "text/plain": [
       "     Jan      Feb      Mar      Apr      May      Jun      Jul      Aug     \n",
       "1958 344.9231 331.4629 384.9889 377.0908 384.1126 449.8897 491.9903 492.9745\n",
       "1959 374.4275 360.6673 414.8117 406.8421 413.8748 480.1077 522.5586 523.9269\n",
       "1960 404.0330 390.3872 444.2955 436.3532 443.3817 509.4405 551.7576 552.9791\n",
       "     Sep      Oct      Nov      Dec     \n",
       "1958 431.2286 374.9870 334.0962 365.3162\n",
       "1959 461.7042 405.1715 363.8578 394.9933\n",
       "1960 490.9386 434.5171 393.3650 424.5327"
      ]
     },
     "metadata": {},
     "output_type": "display_data"
    }
   ],
   "source": [
    "prediction <- predict(air_passengers_manual_ARIMA, n.ahead = 3 * 12)\n",
    "prediction$pred"
   ]
  },
  {
   "cell_type": "code",
   "execution_count": 33,
   "metadata": {
    "scrolled": true
   },
   "outputs": [
    {
     "data": {
      "text/html": [
       "<table>\n",
       "<caption>A Time Series: 3 × 12</caption>\n",
       "<thead>\n",
       "\t<tr><th></th><th scope=col>Jan</th><th scope=col>Feb</th><th scope=col>Mar</th><th scope=col>Apr</th><th scope=col>May</th><th scope=col>Jun</th><th scope=col>Jul</th><th scope=col>Aug</th><th scope=col>Sep</th><th scope=col>Oct</th><th scope=col>Nov</th><th scope=col>Dec</th></tr>\n",
       "</thead>\n",
       "<tbody>\n",
       "\t<tr><th scope=row>1958</th><td>340</td><td>318</td><td>362</td><td>348</td><td>363</td><td>435</td><td>491</td><td>505</td><td>404</td><td>359</td><td>310</td><td>337</td></tr>\n",
       "\t<tr><th scope=row>1959</th><td>360</td><td>342</td><td>406</td><td>396</td><td>420</td><td>472</td><td>548</td><td>559</td><td>463</td><td>407</td><td>362</td><td>405</td></tr>\n",
       "\t<tr><th scope=row>1960</th><td>417</td><td>391</td><td>419</td><td>461</td><td>472</td><td>535</td><td>622</td><td>606</td><td>508</td><td>461</td><td>390</td><td>432</td></tr>\n",
       "</tbody>\n",
       "</table>\n"
      ],
      "text/latex": [
       "A Time Series: 3 × 12\n",
       "\\begin{tabular}{r|llllllllllll}\n",
       "  & Jan & Feb & Mar & Apr & May & Jun & Jul & Aug & Sep & Oct & Nov & Dec\\\\\n",
       "\\hline\n",
       "\t1958 & 340 & 318 & 362 & 348 & 363 & 435 & 491 & 505 & 404 & 359 & 310 & 337\\\\\n",
       "\t1959 & 360 & 342 & 406 & 396 & 420 & 472 & 548 & 559 & 463 & 407 & 362 & 405\\\\\n",
       "\t1960 & 417 & 391 & 419 & 461 & 472 & 535 & 622 & 606 & 508 & 461 & 390 & 432\\\\\n",
       "\\end{tabular}\n"
      ],
      "text/markdown": [
       "\n",
       "A Time Series: 3 × 12\n",
       "\n",
       "| <!--/--> | Jan | Feb | Mar | Apr | May | Jun | Jul | Aug | Sep | Oct | Nov | Dec |\n",
       "|---|---|---|---|---|---|---|---|---|---|---|---|---|\n",
       "| 1958 | 340 | 318 | 362 | 348 | 363 | 435 | 491 | 505 | 404 | 359 | 310 | 337 |\n",
       "| 1959 | 360 | 342 | 406 | 396 | 420 | 472 | 548 | 559 | 463 | 407 | 362 | 405 |\n",
       "| 1960 | 417 | 391 | 419 | 461 | 472 | 535 | 622 | 606 | 508 | 461 | 390 | 432 |\n",
       "\n"
      ],
      "text/plain": [
       "     Jan Feb Mar Apr May Jun Jul Aug Sep Oct Nov Dec\n",
       "1958 340 318 362 348 363 435 491 505 404 359 310 337\n",
       "1959 360 342 406 396 420 472 548 559 463 407 362 405\n",
       "1960 417 391 419 461 472 535 622 606 508 461 390 432"
      ]
     },
     "metadata": {},
     "output_type": "display_data"
    }
   ],
   "source": [
    "testing"
   ]
  },
  {
   "cell_type": "code",
   "execution_count": 44,
   "metadata": {},
   "outputs": [
    {
     "data": {
      "image/png": "[encoded data removed]",
      "text/plain": [
       "Plot with title \"Comparison of Air Passengers model and testing data\""
      ]
     },
     "metadata": {
      "image/png": {
       "height": 600,
       "width": 960
      },
      "text/plain": {
       "height": 600,
       "width": 960
      }
     },
     "output_type": "display_data"
    }
   ],
   "source": [
    "# Used for Jupyter notebook only\n",
    "options(repr.plot.width=16, repr.plot.height=10)\n",
    "\n",
    "# Show both side-by-side for comparison\n",
    "opar <- par(no.readonly=TRUE)\n",
    "\n",
    "plot(prediction$pred, \n",
    "     lty=1, \n",
    "     pch=\"o\", \n",
    "     col = \"Blue\", \n",
    "     main = \"Comparison of Air Passengers model and testing data\")\n",
    "\n",
    "# Plot second dataset\n",
    "lines(testing, \n",
    "      col=\"red\", \n",
    "      pch=\"*\", \n",
    "      lty=2)\n",
    "\n",
    "legend(1,19, legend=c(\"Prediction\",\"Testing\"), col=c(\"red\",\"blue\"),\n",
    "                                   pch=c(\"o\",\"*\"),lty=c(1,2), ncol=1)\n",
    "\n",
    "par(opar)\n"
   ]
  }
 ],
 "metadata": {
  "kernelspec": {
   "display_name": "R",
   "language": "R",
   "name": "ir"
  },
  "language_info": {
   "codemirror_mode": "r",
   "file_extension": ".r",
   "mimetype": "text/x-r-source",
   "name": "R",
   "pygments_lexer": "r",
   "version": "3.6.1"
  }
 },
 "nbformat": 4,
 "nbformat_minor": 4
}
